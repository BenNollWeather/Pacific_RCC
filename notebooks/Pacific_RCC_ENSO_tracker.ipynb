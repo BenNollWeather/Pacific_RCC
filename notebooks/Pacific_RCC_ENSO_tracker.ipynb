{
 "cells": [
  {
   "cell_type": "code",
   "execution_count": 118,
   "metadata": {},
   "outputs": [],
   "source": [
    "%matplotlib inline"
   ]
  },
  {
   "cell_type": "code",
   "execution_count": 119,
   "metadata": {},
   "outputs": [],
   "source": [
    "import os \n",
    "import sys\n",
    "import pathlib\n",
    "import requests\n",
    "from io import StringIO, BytesIO\n",
    "from datetime import datetime, timedelta"
   ]
  },
  {
   "cell_type": "code",
   "execution_count": 120,
   "metadata": {},
   "outputs": [],
   "source": [
    "from matplotlib import pyplot as plt\n",
    "from matplotlib.colors import ListedColormap"
   ]
  },
  {
   "cell_type": "code",
   "execution_count": 121,
   "metadata": {},
   "outputs": [],
   "source": [
    "import seaborn as sns"
   ]
  },
  {
   "cell_type": "code",
   "execution_count": 122,
   "metadata": {},
   "outputs": [],
   "source": [
    "import numpy as np\n",
    "import pandas as pd"
   ]
  },
  {
   "cell_type": "code",
   "execution_count": 123,
   "metadata": {},
   "outputs": [],
   "source": [
    "nino = \"3.4\""
   ]
  },
  {
   "cell_type": "code",
   "execution_count": 124,
   "metadata": {},
   "outputs": [],
   "source": [
    "url = \"http://www.bom.gov.au/climate/enso/nino_%s.txt\" % (nino)"
   ]
  },
  {
   "cell_type": "code",
   "execution_count": 125,
   "metadata": {},
   "outputs": [],
   "source": [
    "r = requests.get(url)\n",
    "\n",
    "if r.status_code != 200: \n",
    "    print(f\"something went wrong with accessing the URL {url}\")\n",
    "\n",
    "else: \n",
    "\n",
    "    nino_index = pd.read_table(BytesIO(r.content), sep=',', header=None, index_col=1, parse_dates=True, names=['iDate','SST'])"
   ]
  },
  {
   "cell_type": "code",
   "execution_count": 126,
   "metadata": {},
   "outputs": [
    {
     "data": {
      "text/html": [
       "<div>\n",
       "<style scoped>\n",
       "    .dataframe tbody tr th:only-of-type {\n",
       "        vertical-align: middle;\n",
       "    }\n",
       "\n",
       "    .dataframe tbody tr th {\n",
       "        vertical-align: top;\n",
       "    }\n",
       "\n",
       "    .dataframe thead th {\n",
       "        text-align: right;\n",
       "    }\n",
       "</style>\n",
       "<table border=\"1\" class=\"dataframe\">\n",
       "  <thead>\n",
       "    <tr style=\"text-align: right;\">\n",
       "      <th></th>\n",
       "      <th>iDate</th>\n",
       "      <th>SST</th>\n",
       "    </tr>\n",
       "  </thead>\n",
       "  <tbody>\n",
       "    <tr>\n",
       "      <th>2020-03-15</th>\n",
       "      <td>20200309</td>\n",
       "      <td>0.36</td>\n",
       "    </tr>\n",
       "    <tr>\n",
       "      <th>2020-03-22</th>\n",
       "      <td>20200316</td>\n",
       "      <td>0.63</td>\n",
       "    </tr>\n",
       "    <tr>\n",
       "      <th>2020-03-29</th>\n",
       "      <td>20200323</td>\n",
       "      <td>0.50</td>\n",
       "    </tr>\n",
       "    <tr>\n",
       "      <th>2020-04-05</th>\n",
       "      <td>20200330</td>\n",
       "      <td>0.50</td>\n",
       "    </tr>\n",
       "    <tr>\n",
       "      <th>2020-04-12</th>\n",
       "      <td>20200406</td>\n",
       "      <td>0.54</td>\n",
       "    </tr>\n",
       "  </tbody>\n",
       "</table>\n",
       "</div>"
      ],
      "text/plain": [
       "               iDate   SST\n",
       "2020-03-15  20200309  0.36\n",
       "2020-03-22  20200316  0.63\n",
       "2020-03-29  20200323  0.50\n",
       "2020-04-05  20200330  0.50\n",
       "2020-04-12  20200406  0.54"
      ]
     },
     "execution_count": 126,
     "metadata": {},
     "output_type": "execute_result"
    }
   ],
   "source": [
    "nino_index.tail()"
   ]
  },
  {
   "cell_type": "code",
   "execution_count": 127,
   "metadata": {},
   "outputs": [],
   "source": [
    "today = datetime.utcnow() - timedelta(15)"
   ]
  },
  {
   "cell_type": "code",
   "execution_count": 128,
   "metadata": {},
   "outputs": [],
   "source": [
    "nino_index = nino_index.loc['2019-01':'2020-03',:]"
   ]
  },
  {
   "cell_type": "code",
   "execution_count": 129,
   "metadata": {},
   "outputs": [],
   "source": [
    "nino_index = nino_index.resample('1M').mean()"
   ]
  },
  {
   "cell_type": "code",
   "execution_count": 130,
   "metadata": {},
   "outputs": [],
   "source": [
    "dates = nino_index.index.to_pydatetime()"
   ]
  },
  {
   "cell_type": "code",
   "execution_count": 195,
   "metadata": {},
   "outputs": [],
   "source": [
    "dates_str = [f\"{x:%b %Y}\" for x in dates]"
   ]
  },
  {
   "cell_type": "code",
   "execution_count": 132,
   "metadata": {},
   "outputs": [],
   "source": [
    "basis = np.arange(len(dates))"
   ]
  },
  {
   "cell_type": "code",
   "execution_count": 133,
   "metadata": {},
   "outputs": [],
   "source": [
    "nino_values = nino_index.SST.values"
   ]
  },
  {
   "cell_type": "markdown",
   "metadata": {},
   "source": [
    "### Now read the ENSO categories from NOAA, BoM, APCC and NOAA"
   ]
  },
  {
   "cell_type": "code",
   "execution_count": 134,
   "metadata": {},
   "outputs": [],
   "source": [
    "enso_cat = pd.read_csv('../data/template_Pacific_RCC_ENSO_tracker.csv')"
   ]
  },
  {
   "cell_type": "code",
   "execution_count": 135,
   "metadata": {},
   "outputs": [
    {
     "data": {
      "text/html": [
       "<div>\n",
       "<style scoped>\n",
       "    .dataframe tbody tr th:only-of-type {\n",
       "        vertical-align: middle;\n",
       "    }\n",
       "\n",
       "    .dataframe tbody tr th {\n",
       "        vertical-align: top;\n",
       "    }\n",
       "\n",
       "    .dataframe thead th {\n",
       "        text-align: right;\n",
       "    }\n",
       "</style>\n",
       "<table border=\"1\" class=\"dataframe\">\n",
       "  <thead>\n",
       "    <tr style=\"text-align: right;\">\n",
       "      <th></th>\n",
       "      <th>YEAR</th>\n",
       "      <th>MONTH</th>\n",
       "      <th>NOAA</th>\n",
       "      <th>BoM</th>\n",
       "      <th>APCC</th>\n",
       "      <th>NIWA</th>\n",
       "    </tr>\n",
       "  </thead>\n",
       "  <tbody>\n",
       "    <tr>\n",
       "      <th>0</th>\n",
       "      <td>2019</td>\n",
       "      <td>1</td>\n",
       "      <td>neutral</td>\n",
       "      <td>El_Nino_alert</td>\n",
       "      <td>neutral</td>\n",
       "      <td>El_Nino_watch</td>\n",
       "    </tr>\n",
       "    <tr>\n",
       "      <th>1</th>\n",
       "      <td>2019</td>\n",
       "      <td>2</td>\n",
       "      <td>El_Nino</td>\n",
       "      <td>El_Nino_watch</td>\n",
       "      <td>El_Nino</td>\n",
       "      <td>El_Nino_alert</td>\n",
       "    </tr>\n",
       "    <tr>\n",
       "      <th>2</th>\n",
       "      <td>2019</td>\n",
       "      <td>3</td>\n",
       "      <td>El_Nino</td>\n",
       "      <td>El_Nino_watch</td>\n",
       "      <td>El_Nino</td>\n",
       "      <td>El_Nino</td>\n",
       "    </tr>\n",
       "    <tr>\n",
       "      <th>3</th>\n",
       "      <td>2019</td>\n",
       "      <td>4</td>\n",
       "      <td>El_Nino</td>\n",
       "      <td>El_Nino_alert</td>\n",
       "      <td>El_Nino</td>\n",
       "      <td>El_Nino</td>\n",
       "    </tr>\n",
       "    <tr>\n",
       "      <th>4</th>\n",
       "      <td>2019</td>\n",
       "      <td>5</td>\n",
       "      <td>El_Nino</td>\n",
       "      <td>El_Nino_watch</td>\n",
       "      <td>El_Nino</td>\n",
       "      <td>El_Nino</td>\n",
       "    </tr>\n",
       "    <tr>\n",
       "      <th>5</th>\n",
       "      <td>2019</td>\n",
       "      <td>6</td>\n",
       "      <td>El_Nino</td>\n",
       "      <td>El_Nino_watch</td>\n",
       "      <td>El_Nino</td>\n",
       "      <td>El_Nino</td>\n",
       "    </tr>\n",
       "    <tr>\n",
       "      <th>6</th>\n",
       "      <td>2019</td>\n",
       "      <td>7</td>\n",
       "      <td>El_Nino</td>\n",
       "      <td>neutral</td>\n",
       "      <td>neutral</td>\n",
       "      <td>El_Nino</td>\n",
       "    </tr>\n",
       "    <tr>\n",
       "      <th>7</th>\n",
       "      <td>2019</td>\n",
       "      <td>8</td>\n",
       "      <td>neutral</td>\n",
       "      <td>neutral</td>\n",
       "      <td>neutral</td>\n",
       "      <td>neutral</td>\n",
       "    </tr>\n",
       "    <tr>\n",
       "      <th>8</th>\n",
       "      <td>2019</td>\n",
       "      <td>9</td>\n",
       "      <td>neutral</td>\n",
       "      <td>neutral</td>\n",
       "      <td>neutral</td>\n",
       "      <td>neutral</td>\n",
       "    </tr>\n",
       "    <tr>\n",
       "      <th>9</th>\n",
       "      <td>2019</td>\n",
       "      <td>10</td>\n",
       "      <td>neutral</td>\n",
       "      <td>neutral</td>\n",
       "      <td>neutral</td>\n",
       "      <td>neutral</td>\n",
       "    </tr>\n",
       "    <tr>\n",
       "      <th>10</th>\n",
       "      <td>2019</td>\n",
       "      <td>11</td>\n",
       "      <td>neutral</td>\n",
       "      <td>neutral</td>\n",
       "      <td>neutral</td>\n",
       "      <td>neutral</td>\n",
       "    </tr>\n",
       "    <tr>\n",
       "      <th>11</th>\n",
       "      <td>2019</td>\n",
       "      <td>12</td>\n",
       "      <td>neutral</td>\n",
       "      <td>neutral</td>\n",
       "      <td>neutral</td>\n",
       "      <td>neutral</td>\n",
       "    </tr>\n",
       "    <tr>\n",
       "      <th>12</th>\n",
       "      <td>2020</td>\n",
       "      <td>1</td>\n",
       "      <td>neutral</td>\n",
       "      <td>neutral</td>\n",
       "      <td>neutral</td>\n",
       "      <td>neutral</td>\n",
       "    </tr>\n",
       "    <tr>\n",
       "      <th>13</th>\n",
       "      <td>2020</td>\n",
       "      <td>2</td>\n",
       "      <td>neutral</td>\n",
       "      <td>neutral</td>\n",
       "      <td>neutral</td>\n",
       "      <td>neutral</td>\n",
       "    </tr>\n",
       "    <tr>\n",
       "      <th>14</th>\n",
       "      <td>2020</td>\n",
       "      <td>3</td>\n",
       "      <td>neutral</td>\n",
       "      <td>neutral</td>\n",
       "      <td>neutral</td>\n",
       "      <td>neutral</td>\n",
       "    </tr>\n",
       "  </tbody>\n",
       "</table>\n",
       "</div>"
      ],
      "text/plain": [
       "    YEAR  MONTH     NOAA            BoM     APCC           NIWA\n",
       "0   2019      1  neutral  El_Nino_alert  neutral  El_Nino_watch\n",
       "1   2019      2  El_Nino  El_Nino_watch  El_Nino  El_Nino_alert\n",
       "2   2019      3  El_Nino  El_Nino_watch  El_Nino        El_Nino\n",
       "3   2019      4  El_Nino  El_Nino_alert  El_Nino        El_Nino\n",
       "4   2019      5  El_Nino  El_Nino_watch  El_Nino        El_Nino\n",
       "5   2019      6  El_Nino  El_Nino_watch  El_Nino        El_Nino\n",
       "6   2019      7  El_Nino        neutral  neutral        El_Nino\n",
       "7   2019      8  neutral        neutral  neutral        neutral\n",
       "8   2019      9  neutral        neutral  neutral        neutral\n",
       "9   2019     10  neutral        neutral  neutral        neutral\n",
       "10  2019     11  neutral        neutral  neutral        neutral\n",
       "11  2019     12  neutral        neutral  neutral        neutral\n",
       "12  2020      1  neutral        neutral  neutral        neutral\n",
       "13  2020      2  neutral        neutral  neutral        neutral\n",
       "14  2020      3  neutral        neutral  neutral        neutral"
      ]
     },
     "execution_count": 135,
     "metadata": {},
     "output_type": "execute_result"
    }
   ],
   "source": [
    "enso_cat"
   ]
  },
  {
   "cell_type": "code",
   "execution_count": 136,
   "metadata": {},
   "outputs": [],
   "source": [
    "cat_to_int = {} \n",
    "\n",
    "cat_to_int['La_Nina'] = -3\n",
    "cat_to_int['La_Nina_alert'] = -2\n",
    "cat_to_int['La_Nina_watch'] = -1\n",
    "cat_to_int['neutral'] = 0\n",
    "cat_to_int['El_Nino_watch'] = 1 \n",
    "cat_to_int['El_Nino_alert'] = 2 \n",
    "cat_to_int['El_Nino'] = 3"
   ]
  },
  {
   "cell_type": "code",
   "execution_count": 137,
   "metadata": {},
   "outputs": [],
   "source": [
    "enso_cat_int = enso_cat.replace(cat_to_int)"
   ]
  },
  {
   "cell_type": "code",
   "execution_count": 138,
   "metadata": {},
   "outputs": [],
   "source": [
    "enso_cat_int.loc[:,'date'] = np.NaN"
   ]
  },
  {
   "cell_type": "code",
   "execution_count": 139,
   "metadata": {},
   "outputs": [],
   "source": [
    "enso_cat_int.loc[:,'date'] = enso_cat_int.loc[:,'YEAR'].astype(str) + \"-\" + enso_cat_int.loc[:,'MONTH'].astype(str).str.zfill(2)"
   ]
  },
  {
   "cell_type": "code",
   "execution_count": 140,
   "metadata": {},
   "outputs": [],
   "source": [
    "enso_cat_int = enso_cat_int.set_index('date').drop(['YEAR','MONTH'],axis=1)"
   ]
  },
  {
   "cell_type": "code",
   "execution_count": 141,
   "metadata": {},
   "outputs": [],
   "source": [
    "col_dict={-3:\"#4233ff\",\n",
    "          -2:\"#33a2ff\",\n",
    "          -1:\"#33ffbb\",\n",
    "          0:\"#d4d4d4\",\n",
    "          1:\"#f3ff33\", \n",
    "          2:\"#ffa233\",\n",
    "          3:\"#dc0f09\"\n",
    "         }\n",
    "\n",
    "cm = ListedColormap([col_dict[x] for x in col_dict.keys()])"
   ]
  },
  {
   "cell_type": "code",
   "execution_count": 142,
   "metadata": {},
   "outputs": [
    {
     "data": {
      "text/plain": [
       "(15, 4)"
      ]
     },
     "execution_count": 142,
     "metadata": {},
     "output_type": "execute_result"
    }
   ],
   "source": [
    "enso_cat_int.shape"
   ]
  },
  {
   "cell_type": "code",
   "execution_count": 157,
   "metadata": {},
   "outputs": [
    {
     "data": {
      "text/plain": [
       "15"
      ]
     },
     "execution_count": 157,
     "metadata": {},
     "output_type": "execute_result"
    }
   ],
   "source": [
    "len(dates)"
   ]
  },
  {
   "cell_type": "code",
   "execution_count": 203,
   "metadata": {},
   "outputs": [
    {
     "data": {
      "image/png": "[encoded data removed]",
      "text/plain": [
       "<Figure size 720x432 with 3 Axes>"
      ]
     },
     "metadata": {
      "needs_background": "light"
     },
     "output_type": "display_data"
    }
   ],
   "source": [
    "f = plt.figure(figsize=(10,6))\n",
    "\n",
    "#  [left, bottom, width, height] \n",
    "\n",
    "# defines the axes \n",
    "\n",
    "ax0 = f.add_axes([0.1, 0.45, 0.9, 0.45])\n",
    "\n",
    "ax0.set_title(\"Pacific Regional Climate Centre ENSO tracker\\n\", fontsize=16)\n",
    "\n",
    "ax1 = f.add_axes([0.1, 0.05, 0.755, 0.4])\n",
    "\n",
    "#============================================================================================================================\n",
    "# first set of axes: ENSO categories heatmap \n",
    "\n",
    "sns.heatmap(enso_cat_int.T, cmap=cm, center=0, vmin=-3, vmax=3, ax=ax0, \\\n",
    "            cbar_kws={'aspect':5, 'pad':0.01}) \n",
    "\n",
    "colorbar = ax0.collections[0].colorbar \n",
    "\n",
    "ax0.set_yticks([0.8, 1.8, 2.8, 3.8]);\n",
    "\n",
    "ax0.set_ylim(bottom=0,top=4)\n",
    "\n",
    "[ax0.axvline(x, color='k', lw=2, alpha=0.5) for x in range(0,16)];\n",
    "\n",
    "[ax0.axhline(x, color='k', lw=2, alpha=0.5) for x in range(1,4)];\n",
    "\n",
    "ax0.tick_params(direction='out', length=0, width=0)\n",
    "\n",
    "colorbar.set_ticks([-2.5, -1.75, -0.8,  0.,  0.90, 1.75,  2.6])\n",
    "\n",
    "colorbar.set_ticklabels([\"La Nina\", \"La Nina Alert\", \"La Nina Watch\", \"Neutral\", \"El Nino Watch\", \"El Nino Alert\", \"El Nino\"])    \n",
    "\n",
    "colorbar.ax.tick_params(direction='out', length=0, width=0)\n",
    "\n",
    "#============================================================================================================================\n",
    "# second set of axes: ENSO barplot\n",
    "\n",
    "\n",
    "ax1.bar(basis[nino_values>=0],nino_values[nino_values>=0], width=1, facecolor='coral', alpha=.8, edgecolor='k', lw=2)\n",
    "ax1.bar(basis[nino_values<0],nino_values[nino_values<0], width=1, facecolor='steelblue', alpha=.8, edgecolor='k', lw=2)\n",
    "\n",
    "ax1.set_xticks(basis)\n",
    "\n",
    "ax1.set_xticklabels(dates_str, rotation=90)\n",
    "\n",
    "ax1.set_xlim([-0.5,len(dates) - 0.5])\n",
    "\n",
    "ax1.set_ylim([-0.3, 0.9])\n",
    "\n",
    "ax1.yaxis.tick_right()\n",
    "\n",
    "ax1.set_ylabel('monthly NINO 3.4\\nanomalies (℃)', fontsize=14)\n",
    "\n",
    "ax1.yaxis.set_label_position(\"right\")\n",
    "\n",
    "[ax1.axvline(x, color='k', lw=1, alpha=0.5, ls=':') for x in np.arange(0.5,len(dates)-0.5)];\n",
    "\n",
    "ax1.set_xlabel('month', fontsize=14)"
   ]
  },
  {
   "cell_type": "markdown",
   "metadata": {},
   "source": [
    "### saves to disk "
   ]
  },
  {
   "cell_type": "code",
   "execution_count": null,
   "metadata": {},
   "outputs": [],
   "source": [
    "f.savefig('../figures/prototype_Pacific_RCC.png', dpi=200, bbox_inches='tight')"
   ]
  }
 ],
 "metadata": {
  "kernelspec": {
   "display_name": "Python 3",
   "language": "python",
   "name": "python3"
  },
  "language_info": {
   "codemirror_mode": {
    "name": "ipython",
    "version": 3
   },
   "file_extension": ".py",
   "mimetype": "text/x-python",
   "name": "python",
   "nbconvert_exporter": "python",
   "pygments_lexer": "ipython3",
   "version": "3.7.5"
  }
 },
 "nbformat": 4,
 "nbformat_minor": 4
}
