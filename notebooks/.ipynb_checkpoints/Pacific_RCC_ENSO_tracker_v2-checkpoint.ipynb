{
 "cells": [
  {
   "cell_type": "markdown",
   "metadata": {},
   "source": [
    "### Imports "
   ]
  },
  {
   "cell_type": "code",
   "execution_count": 1,
   "metadata": {},
   "outputs": [],
   "source": [
    "import os \n",
    "import sys\n",
    "import pathlib\n",
    "import requests\n",
    "from io import StringIO, BytesIO\n",
    "from datetime import datetime, timedelta\n",
    "from dateutil.relativedelta import relativedelta"
   ]
  },
  {
   "cell_type": "code",
   "execution_count": 2,
   "metadata": {},
   "outputs": [],
   "source": [
    "import matplotlib\n",
    "from matplotlib import pyplot as plt\n",
    "from matplotlib.colors import ListedColormap"
   ]
  },
  {
   "cell_type": "code",
   "execution_count": 3,
   "metadata": {},
   "outputs": [],
   "source": [
    "matplotlib.rc('xtick', labelsize=14) \n",
    "matplotlib.rc('ytick', labelsize=14) "
   ]
  },
  {
   "cell_type": "code",
   "execution_count": 4,
   "metadata": {},
   "outputs": [],
   "source": [
    "import seaborn as sns"
   ]
  },
  {
   "cell_type": "code",
   "execution_count": 5,
   "metadata": {},
   "outputs": [],
   "source": [
    "import numpy as np\n",
    "import pandas as pd"
   ]
  },
  {
   "cell_type": "markdown",
   "metadata": {},
   "source": [
    "### Some parameters "
   ]
  },
  {
   "cell_type": "markdown",
   "metadata": {},
   "source": [
    "### number of months to keep (last 12)"
   ]
  },
  {
   "cell_type": "code",
   "execution_count": 6,
   "metadata": {},
   "outputs": [],
   "source": [
    "n_months = 12"
   ]
  },
  {
   "cell_type": "code",
   "execution_count": 7,
   "metadata": {},
   "outputs": [],
   "source": [
    "year = 2021"
   ]
  },
  {
   "cell_type": "code",
   "execution_count": 8,
   "metadata": {},
   "outputs": [],
   "source": [
    "month = 2"
   ]
  },
  {
   "cell_type": "code",
   "execution_count": 9,
   "metadata": {},
   "outputs": [],
   "source": [
    "enso_tracker_path = '../template'"
   ]
  },
  {
   "cell_type": "code",
   "execution_count": 10,
   "metadata": {},
   "outputs": [],
   "source": [
    "figures_path = './figures'"
   ]
  },
  {
   "cell_type": "code",
   "execution_count": 11,
   "metadata": {},
   "outputs": [],
   "source": [
    "if not pathlib.Path(figures_path).exists(): \n",
    "    pathlib.Path(figures_path).mkdir(parents=True)"
   ]
  },
  {
   "cell_type": "code",
   "execution_count": 12,
   "metadata": {},
   "outputs": [],
   "source": [
    "last_valid = datetime(year, month, 1)"
   ]
  },
  {
   "cell_type": "code",
   "execution_count": 13,
   "metadata": {},
   "outputs": [],
   "source": [
    "last_valid = last_valid + pd.offsets.MonthEnd(0) "
   ]
  },
  {
   "cell_type": "code",
   "execution_count": 14,
   "metadata": {},
   "outputs": [
    {
     "data": {
      "text/plain": [
       "Timestamp('2021-02-28 00:00:00')"
      ]
     },
     "execution_count": 14,
     "metadata": {},
     "output_type": "execute_result"
    }
   ],
   "source": [
    "last_valid"
   ]
  },
  {
   "cell_type": "code",
   "execution_count": 15,
   "metadata": {},
   "outputs": [],
   "source": [
    "start_date = last_valid - relativedelta(months=n_months)"
   ]
  },
  {
   "cell_type": "code",
   "execution_count": 16,
   "metadata": {},
   "outputs": [
    {
     "data": {
      "text/plain": [
       "Timestamp('2020-02-28 00:00:00')"
      ]
     },
     "execution_count": 16,
     "metadata": {},
     "output_type": "execute_result"
    }
   ],
   "source": [
    "start_date"
   ]
  },
  {
   "cell_type": "markdown",
   "metadata": {},
   "source": [
    "### Access and read the NINO3.4 index from the BoM "
   ]
  },
  {
   "cell_type": "code",
   "execution_count": 17,
   "metadata": {},
   "outputs": [],
   "source": [
    "def get_BoM_NINO(nino=\"3.4\", base_url = \"http://www.bom.gov.au/climate/enso/\", start_date=None, end_date=None): \n",
    "    \"\"\"\n",
    "    Get the NINO 3.4 index from the BoM\n",
    "    \"\"\"\n",
    "    \n",
    "    from datetime import datetime, timedelta\n",
    "    from dateutil.relativedelta import relativedelta\n",
    "    import numpy as np \n",
    "    import pandas as pd\n",
    "    \n",
    "    url_nino = f\"{base_url}/nino_{nino}.txt\"\n",
    "    r = requests.get(url_nino)\n",
    "\n",
    "    if r.status_code != 200: \n",
    "        print(f\"something went wrong with accessing the URL {url_nino}\")\n",
    "\n",
    "    else: \n",
    "        # read the weekly NINO index, and assign the end date of the weekly period \n",
    "        nino_index = pd.read_table(BytesIO(r.content), sep=',', header=None, index_col=1, parse_dates=True, names=['iDate','SST'])\n",
    "\n",
    "    nino_index = nino_index.resample('1M').mean()\n",
    "    \n",
    "    if not (start_date == end_date == None):\n",
    "        nino_index = nino_index.loc[start_date:end_date,:]\n",
    "    else: \n",
    "        start_date = (datetime.utcnow() - timedelta(15)) - relativedelta(months=n_months)\n",
    "        nino_index = nino_index.loc[start_date:,:]\n",
    "    \n",
    "    return nino_index "
   ]
  },
  {
   "cell_type": "code",
   "execution_count": 18,
   "metadata": {},
   "outputs": [],
   "source": [
    "def get_LP_SOI(url='https://data.longpaddock.qld.gov.au/SeasonalClimateOutlook/SouthernOscillationIndex/SOIDataFiles/DailySOI1933-1992Base.txt', start_date=None, end_date=None): \n",
    "    \"\"\"\n",
    "    get the SOI from LongPaddock\n",
    "    \"\"\"\n",
    "    \n",
    "    from datetime import datetime, timedelta\n",
    "    from dateutil.relativedelta import relativedelta\n",
    "    import numpy as np \n",
    "    import pandas as pd\n",
    "    \n",
    "    r = requests.get(url)\n",
    "\n",
    "    if r.status_code != 200: \n",
    "        print(f\"something went wrong with accessing the URL {url_soi}\")\n",
    "    else: \n",
    "        soi_index = pd.read_table(BytesIO(r.content), sep='\\s+', engine='python') \n",
    "        \n",
    "    index = [datetime(int(year),1,1) + timedelta(int(day)-1) for year, day in soi_index.loc[:,['Year','Day']].values]\n",
    "    soi_index.index = index\n",
    "    soi_index = soi_index.resample('1M').mean()\n",
    "\n",
    "    if not (start_date == end_date == None):\n",
    "        soi_index = soi_index.loc[start_date:end_date,:]\n",
    "    else: \n",
    "        start_date = (datetime.utcnow() - timedelta(15)) - relativedelta(months=n_months)\n",
    "        soi_index = soi_index.loc[start_date:,:]\n",
    "    \n",
    "    return soi_index"
   ]
  },
  {
   "cell_type": "code",
   "execution_count": 19,
   "metadata": {},
   "outputs": [],
   "source": [
    "def read_ENSO_categories(dpath = '../template', fname = 'Pacific_RCC_ENSO_tracker.csv'): \n",
    "    \n",
    "    import pathlib\n",
    "    import numpy as np \n",
    "    import pandas as pd \n",
    "    \n",
    "    filename = pathlib.Path(dpath).joinpath(fname)\n",
    "    \n",
    "    enso_cat = pd.read_csv(filename)\n",
    "    \n",
    "    # goes from string to categories \n",
    "    cat_to_int = {} \n",
    "\n",
    "    cat_to_int['La_Nina'] = -3\n",
    "    cat_to_int['La_Nina_alert'] = -2\n",
    "    cat_to_int['La_Nina_watch'] = -1\n",
    "    cat_to_int['neutral'] = 0\n",
    "    cat_to_int['El_Nino_watch'] = 1 \n",
    "    cat_to_int['El_Nino_alert'] = 2 \n",
    "    cat_to_int['El_Nino'] = 3\n",
    "    \n",
    "    enso_cat_int = enso_cat.replace(cat_to_int)\n",
    "    \n",
    "    enso_cat_int.loc[:,'date'] = np.NaN\n",
    "    \n",
    "    # build the index \n",
    "    enso_cat_int.loc[:,'date'] = enso_cat_int.loc[:,'YEAR'].astype(str) + \"-\" + enso_cat_int.loc[:,'MONTH'].astype(str).str.zfill(2)\n",
    "    \n",
    "    enso_cat_int = enso_cat_int.set_index('date').drop(['YEAR','MONTH'],axis=1) \n",
    "    \n",
    "    enso_cat_int.index = pd.to_datetime(enso_cat_int.index) + pd.offsets.MonthEnd(0) \n",
    "    \n",
    "    return enso_cat_int"
   ]
  },
  {
   "cell_type": "code",
   "execution_count": 20,
   "metadata": {},
   "outputs": [],
   "source": [
    "nino_index = get_BoM_NINO(start_date=start_date, end_date=last_valid)"
   ]
  },
  {
   "cell_type": "code",
   "execution_count": 21,
   "metadata": {},
   "outputs": [
    {
     "data": {
      "text/html": [
       "<div>\n",
       "<style scoped>\n",
       "    .dataframe tbody tr th:only-of-type {\n",
       "        vertical-align: middle;\n",
       "    }\n",
       "\n",
       "    .dataframe tbody tr th {\n",
       "        vertical-align: top;\n",
       "    }\n",
       "\n",
       "    .dataframe thead th {\n",
       "        text-align: right;\n",
       "    }\n",
       "</style>\n",
       "<table border=\"1\" class=\"dataframe\">\n",
       "  <thead>\n",
       "    <tr style=\"text-align: right;\">\n",
       "      <th></th>\n",
       "      <th>iDate</th>\n",
       "      <th>SST</th>\n",
       "    </tr>\n",
       "  </thead>\n",
       "  <tbody>\n",
       "    <tr>\n",
       "      <th>2020-02-29</th>\n",
       "      <td>20200189.25</td>\n",
       "      <td>0.3000</td>\n",
       "    </tr>\n",
       "    <tr>\n",
       "      <th>2020-03-31</th>\n",
       "      <td>20200294.80</td>\n",
       "      <td>0.3900</td>\n",
       "    </tr>\n",
       "    <tr>\n",
       "      <th>2020-04-30</th>\n",
       "      <td>20200392.25</td>\n",
       "      <td>0.5375</td>\n",
       "    </tr>\n",
       "    <tr>\n",
       "      <th>2020-05-31</th>\n",
       "      <td>20200497.00</td>\n",
       "      <td>-0.0260</td>\n",
       "    </tr>\n",
       "    <tr>\n",
       "      <th>2020-06-30</th>\n",
       "      <td>20200611.50</td>\n",
       "      <td>-0.1250</td>\n",
       "    </tr>\n",
       "    <tr>\n",
       "      <th>2020-07-31</th>\n",
       "      <td>20200692.00</td>\n",
       "      <td>0.0425</td>\n",
       "    </tr>\n",
       "    <tr>\n",
       "      <th>2020-08-31</th>\n",
       "      <td>20200796.20</td>\n",
       "      <td>-0.4160</td>\n",
       "    </tr>\n",
       "    <tr>\n",
       "      <th>2020-09-30</th>\n",
       "      <td>20200893.25</td>\n",
       "      <td>-0.7125</td>\n",
       "    </tr>\n",
       "    <tr>\n",
       "      <th>2020-10-31</th>\n",
       "      <td>20200991.00</td>\n",
       "      <td>-0.8650</td>\n",
       "    </tr>\n",
       "    <tr>\n",
       "      <th>2020-11-30</th>\n",
       "      <td>20201095.20</td>\n",
       "      <td>-1.0180</td>\n",
       "    </tr>\n",
       "    <tr>\n",
       "      <th>2020-12-31</th>\n",
       "      <td>20201193.00</td>\n",
       "      <td>-0.8375</td>\n",
       "    </tr>\n",
       "    <tr>\n",
       "      <th>2021-01-31</th>\n",
       "      <td>20208337.20</td>\n",
       "      <td>-0.8080</td>\n",
       "    </tr>\n",
       "    <tr>\n",
       "      <th>2021-02-28</th>\n",
       "      <td>20210211.50</td>\n",
       "      <td>-0.6775</td>\n",
       "    </tr>\n",
       "  </tbody>\n",
       "</table>\n",
       "</div>"
      ],
      "text/plain": [
       "                  iDate     SST\n",
       "2020-02-29  20200189.25  0.3000\n",
       "2020-03-31  20200294.80  0.3900\n",
       "2020-04-30  20200392.25  0.5375\n",
       "2020-05-31  20200497.00 -0.0260\n",
       "2020-06-30  20200611.50 -0.1250\n",
       "2020-07-31  20200692.00  0.0425\n",
       "2020-08-31  20200796.20 -0.4160\n",
       "2020-09-30  20200893.25 -0.7125\n",
       "2020-10-31  20200991.00 -0.8650\n",
       "2020-11-30  20201095.20 -1.0180\n",
       "2020-12-31  20201193.00 -0.8375\n",
       "2021-01-31  20208337.20 -0.8080\n",
       "2021-02-28  20210211.50 -0.6775"
      ]
     },
     "execution_count": 21,
     "metadata": {},
     "output_type": "execute_result"
    }
   ],
   "source": [
    "nino_index"
   ]
  },
  {
   "cell_type": "code",
   "execution_count": 22,
   "metadata": {},
   "outputs": [],
   "source": [
    "soi_index = get_LP_SOI(start_date=start_date, end_date=last_valid)"
   ]
  },
  {
   "cell_type": "code",
   "execution_count": 23,
   "metadata": {},
   "outputs": [
    {
     "data": {
      "text/html": [
       "<div>\n",
       "<style scoped>\n",
       "    .dataframe tbody tr th:only-of-type {\n",
       "        vertical-align: middle;\n",
       "    }\n",
       "\n",
       "    .dataframe tbody tr th {\n",
       "        vertical-align: top;\n",
       "    }\n",
       "\n",
       "    .dataframe thead th {\n",
       "        text-align: right;\n",
       "    }\n",
       "</style>\n",
       "<table border=\"1\" class=\"dataframe\">\n",
       "  <thead>\n",
       "    <tr style=\"text-align: right;\">\n",
       "      <th></th>\n",
       "      <th>Year</th>\n",
       "      <th>Day</th>\n",
       "      <th>Tahiti</th>\n",
       "      <th>Darwin</th>\n",
       "      <th>SOI</th>\n",
       "    </tr>\n",
       "  </thead>\n",
       "  <tbody>\n",
       "    <tr>\n",
       "      <th>2020-02-29</th>\n",
       "      <td>2020.0</td>\n",
       "      <td>46.0</td>\n",
       "      <td>1011.524828</td>\n",
       "      <td>1007.375862</td>\n",
       "      <td>-1.992069</td>\n",
       "    </tr>\n",
       "    <tr>\n",
       "      <th>2020-03-31</th>\n",
       "      <td>2020.0</td>\n",
       "      <td>76.0</td>\n",
       "      <td>1012.074839</td>\n",
       "      <td>1009.119355</td>\n",
       "      <td>-5.370968</td>\n",
       "    </tr>\n",
       "    <tr>\n",
       "      <th>2020-04-30</th>\n",
       "      <td>2020.0</td>\n",
       "      <td>106.5</td>\n",
       "      <td>1012.804667</td>\n",
       "      <td>1010.546667</td>\n",
       "      <td>-0.756000</td>\n",
       "    </tr>\n",
       "    <tr>\n",
       "      <th>2020-05-31</th>\n",
       "      <td>2020.0</td>\n",
       "      <td>137.0</td>\n",
       "      <td>1014.314194</td>\n",
       "      <td>1012.350000</td>\n",
       "      <td>2.559677</td>\n",
       "    </tr>\n",
       "    <tr>\n",
       "      <th>2020-06-30</th>\n",
       "      <td>2020.0</td>\n",
       "      <td>167.5</td>\n",
       "      <td>1012.901333</td>\n",
       "      <td>1012.945000</td>\n",
       "      <td>-9.908667</td>\n",
       "    </tr>\n",
       "    <tr>\n",
       "      <th>2020-07-31</th>\n",
       "      <td>2020.0</td>\n",
       "      <td>198.0</td>\n",
       "      <td>1014.284194</td>\n",
       "      <td>1012.708065</td>\n",
       "      <td>4.016452</td>\n",
       "    </tr>\n",
       "    <tr>\n",
       "      <th>2020-08-31</th>\n",
       "      <td>2020.0</td>\n",
       "      <td>229.0</td>\n",
       "      <td>1015.644194</td>\n",
       "      <td>1012.501613</td>\n",
       "      <td>9.394194</td>\n",
       "    </tr>\n",
       "    <tr>\n",
       "      <th>2020-09-30</th>\n",
       "      <td>2020.0</td>\n",
       "      <td>259.5</td>\n",
       "      <td>1015.658667</td>\n",
       "      <td>1011.643333</td>\n",
       "      <td>9.960333</td>\n",
       "    </tr>\n",
       "    <tr>\n",
       "      <th>2020-10-31</th>\n",
       "      <td>2020.0</td>\n",
       "      <td>290.0</td>\n",
       "      <td>1013.633548</td>\n",
       "      <td>1010.040323</td>\n",
       "      <td>4.176452</td>\n",
       "    </tr>\n",
       "    <tr>\n",
       "      <th>2020-11-30</th>\n",
       "      <td>2020.0</td>\n",
       "      <td>320.5</td>\n",
       "      <td>1013.295333</td>\n",
       "      <td>1009.000000</td>\n",
       "      <td>9.138000</td>\n",
       "    </tr>\n",
       "    <tr>\n",
       "      <th>2020-12-31</th>\n",
       "      <td>2020.0</td>\n",
       "      <td>351.0</td>\n",
       "      <td>1013.371290</td>\n",
       "      <td>1006.450000</td>\n",
       "      <td>17.517097</td>\n",
       "    </tr>\n",
       "    <tr>\n",
       "      <th>2021-01-31</th>\n",
       "      <td>2021.0</td>\n",
       "      <td>16.0</td>\n",
       "      <td>1013.484516</td>\n",
       "      <td>1005.583871</td>\n",
       "      <td>16.527419</td>\n",
       "    </tr>\n",
       "    <tr>\n",
       "      <th>2021-02-28</th>\n",
       "      <td>2021.0</td>\n",
       "      <td>45.5</td>\n",
       "      <td>1012.033214</td>\n",
       "      <td>1005.010714</td>\n",
       "      <td>11.607143</td>\n",
       "    </tr>\n",
       "  </tbody>\n",
       "</table>\n",
       "</div>"
      ],
      "text/plain": [
       "              Year    Day       Tahiti       Darwin        SOI\n",
       "2020-02-29  2020.0   46.0  1011.524828  1007.375862  -1.992069\n",
       "2020-03-31  2020.0   76.0  1012.074839  1009.119355  -5.370968\n",
       "2020-04-30  2020.0  106.5  1012.804667  1010.546667  -0.756000\n",
       "2020-05-31  2020.0  137.0  1014.314194  1012.350000   2.559677\n",
       "2020-06-30  2020.0  167.5  1012.901333  1012.945000  -9.908667\n",
       "2020-07-31  2020.0  198.0  1014.284194  1012.708065   4.016452\n",
       "2020-08-31  2020.0  229.0  1015.644194  1012.501613   9.394194\n",
       "2020-09-30  2020.0  259.5  1015.658667  1011.643333   9.960333\n",
       "2020-10-31  2020.0  290.0  1013.633548  1010.040323   4.176452\n",
       "2020-11-30  2020.0  320.5  1013.295333  1009.000000   9.138000\n",
       "2020-12-31  2020.0  351.0  1013.371290  1006.450000  17.517097\n",
       "2021-01-31  2021.0   16.0  1013.484516  1005.583871  16.527419\n",
       "2021-02-28  2021.0   45.5  1012.033214  1005.010714  11.607143"
      ]
     },
     "execution_count": 23,
     "metadata": {},
     "output_type": "execute_result"
    }
   ],
   "source": [
    "soi_index"
   ]
  },
  {
   "cell_type": "markdown",
   "metadata": {},
   "source": [
    "### check "
   ]
  },
  {
   "cell_type": "code",
   "execution_count": 24,
   "metadata": {},
   "outputs": [],
   "source": [
    "if len(soi_index) != len(nino_index): \n",
    "    print(f\"check the SOI and NINO3.4 index data, the SOI Index has length {len(soi_index)} and the NINO Index has length {len(nino_index)}\")"
   ]
  },
  {
   "cell_type": "markdown",
   "metadata": {},
   "source": [
    "### merge the NINO and SOI index "
   ]
  },
  {
   "cell_type": "code",
   "execution_count": 25,
   "metadata": {},
   "outputs": [],
   "source": [
    "ENSO_index = pd.concat([nino_index, soi_index], axis=1)"
   ]
  },
  {
   "cell_type": "code",
   "execution_count": 26,
   "metadata": {},
   "outputs": [],
   "source": [
    "ENSO_index = ENSO_index.dropna()"
   ]
  },
  {
   "cell_type": "code",
   "execution_count": 27,
   "metadata": {},
   "outputs": [
    {
     "data": {
      "text/html": [
       "<div>\n",
       "<style scoped>\n",
       "    .dataframe tbody tr th:only-of-type {\n",
       "        vertical-align: middle;\n",
       "    }\n",
       "\n",
       "    .dataframe tbody tr th {\n",
       "        vertical-align: top;\n",
       "    }\n",
       "\n",
       "    .dataframe thead th {\n",
       "        text-align: right;\n",
       "    }\n",
       "</style>\n",
       "<table border=\"1\" class=\"dataframe\">\n",
       "  <thead>\n",
       "    <tr style=\"text-align: right;\">\n",
       "      <th></th>\n",
       "      <th>iDate</th>\n",
       "      <th>SST</th>\n",
       "      <th>Year</th>\n",
       "      <th>Day</th>\n",
       "      <th>Tahiti</th>\n",
       "      <th>Darwin</th>\n",
       "      <th>SOI</th>\n",
       "    </tr>\n",
       "  </thead>\n",
       "  <tbody>\n",
       "    <tr>\n",
       "      <th>2020-02-29</th>\n",
       "      <td>20200189.25</td>\n",
       "      <td>0.3000</td>\n",
       "      <td>2020.0</td>\n",
       "      <td>46.0</td>\n",
       "      <td>1011.524828</td>\n",
       "      <td>1007.375862</td>\n",
       "      <td>-1.992069</td>\n",
       "    </tr>\n",
       "    <tr>\n",
       "      <th>2020-03-31</th>\n",
       "      <td>20200294.80</td>\n",
       "      <td>0.3900</td>\n",
       "      <td>2020.0</td>\n",
       "      <td>76.0</td>\n",
       "      <td>1012.074839</td>\n",
       "      <td>1009.119355</td>\n",
       "      <td>-5.370968</td>\n",
       "    </tr>\n",
       "    <tr>\n",
       "      <th>2020-04-30</th>\n",
       "      <td>20200392.25</td>\n",
       "      <td>0.5375</td>\n",
       "      <td>2020.0</td>\n",
       "      <td>106.5</td>\n",
       "      <td>1012.804667</td>\n",
       "      <td>1010.546667</td>\n",
       "      <td>-0.756000</td>\n",
       "    </tr>\n",
       "    <tr>\n",
       "      <th>2020-05-31</th>\n",
       "      <td>20200497.00</td>\n",
       "      <td>-0.0260</td>\n",
       "      <td>2020.0</td>\n",
       "      <td>137.0</td>\n",
       "      <td>1014.314194</td>\n",
       "      <td>1012.350000</td>\n",
       "      <td>2.559677</td>\n",
       "    </tr>\n",
       "    <tr>\n",
       "      <th>2020-06-30</th>\n",
       "      <td>20200611.50</td>\n",
       "      <td>-0.1250</td>\n",
       "      <td>2020.0</td>\n",
       "      <td>167.5</td>\n",
       "      <td>1012.901333</td>\n",
       "      <td>1012.945000</td>\n",
       "      <td>-9.908667</td>\n",
       "    </tr>\n",
       "  </tbody>\n",
       "</table>\n",
       "</div>"
      ],
      "text/plain": [
       "                  iDate     SST    Year    Day       Tahiti       Darwin  \\\n",
       "2020-02-29  20200189.25  0.3000  2020.0   46.0  1011.524828  1007.375862   \n",
       "2020-03-31  20200294.80  0.3900  2020.0   76.0  1012.074839  1009.119355   \n",
       "2020-04-30  20200392.25  0.5375  2020.0  106.5  1012.804667  1010.546667   \n",
       "2020-05-31  20200497.00 -0.0260  2020.0  137.0  1014.314194  1012.350000   \n",
       "2020-06-30  20200611.50 -0.1250  2020.0  167.5  1012.901333  1012.945000   \n",
       "\n",
       "                 SOI  \n",
       "2020-02-29 -1.992069  \n",
       "2020-03-31 -5.370968  \n",
       "2020-04-30 -0.756000  \n",
       "2020-05-31  2.559677  \n",
       "2020-06-30 -9.908667  "
      ]
     },
     "execution_count": 27,
     "metadata": {},
     "output_type": "execute_result"
    }
   ],
   "source": [
    "ENSO_index.head()"
   ]
  },
  {
   "cell_type": "code",
   "execution_count": 28,
   "metadata": {},
   "outputs": [
    {
     "data": {
      "text/html": [
       "<div>\n",
       "<style scoped>\n",
       "    .dataframe tbody tr th:only-of-type {\n",
       "        vertical-align: middle;\n",
       "    }\n",
       "\n",
       "    .dataframe tbody tr th {\n",
       "        vertical-align: top;\n",
       "    }\n",
       "\n",
       "    .dataframe thead th {\n",
       "        text-align: right;\n",
       "    }\n",
       "</style>\n",
       "<table border=\"1\" class=\"dataframe\">\n",
       "  <thead>\n",
       "    <tr style=\"text-align: right;\">\n",
       "      <th></th>\n",
       "      <th>iDate</th>\n",
       "      <th>SST</th>\n",
       "      <th>Year</th>\n",
       "      <th>Day</th>\n",
       "      <th>Tahiti</th>\n",
       "      <th>Darwin</th>\n",
       "      <th>SOI</th>\n",
       "    </tr>\n",
       "  </thead>\n",
       "  <tbody>\n",
       "    <tr>\n",
       "      <th>2020-10-31</th>\n",
       "      <td>20200991.0</td>\n",
       "      <td>-0.8650</td>\n",
       "      <td>2020.0</td>\n",
       "      <td>290.0</td>\n",
       "      <td>1013.633548</td>\n",
       "      <td>1010.040323</td>\n",
       "      <td>4.176452</td>\n",
       "    </tr>\n",
       "    <tr>\n",
       "      <th>2020-11-30</th>\n",
       "      <td>20201095.2</td>\n",
       "      <td>-1.0180</td>\n",
       "      <td>2020.0</td>\n",
       "      <td>320.5</td>\n",
       "      <td>1013.295333</td>\n",
       "      <td>1009.000000</td>\n",
       "      <td>9.138000</td>\n",
       "    </tr>\n",
       "    <tr>\n",
       "      <th>2020-12-31</th>\n",
       "      <td>20201193.0</td>\n",
       "      <td>-0.8375</td>\n",
       "      <td>2020.0</td>\n",
       "      <td>351.0</td>\n",
       "      <td>1013.371290</td>\n",
       "      <td>1006.450000</td>\n",
       "      <td>17.517097</td>\n",
       "    </tr>\n",
       "    <tr>\n",
       "      <th>2021-01-31</th>\n",
       "      <td>20208337.2</td>\n",
       "      <td>-0.8080</td>\n",
       "      <td>2021.0</td>\n",
       "      <td>16.0</td>\n",
       "      <td>1013.484516</td>\n",
       "      <td>1005.583871</td>\n",
       "      <td>16.527419</td>\n",
       "    </tr>\n",
       "    <tr>\n",
       "      <th>2021-02-28</th>\n",
       "      <td>20210211.5</td>\n",
       "      <td>-0.6775</td>\n",
       "      <td>2021.0</td>\n",
       "      <td>45.5</td>\n",
       "      <td>1012.033214</td>\n",
       "      <td>1005.010714</td>\n",
       "      <td>11.607143</td>\n",
       "    </tr>\n",
       "  </tbody>\n",
       "</table>\n",
       "</div>"
      ],
      "text/plain": [
       "                 iDate     SST    Year    Day       Tahiti       Darwin  \\\n",
       "2020-10-31  20200991.0 -0.8650  2020.0  290.0  1013.633548  1010.040323   \n",
       "2020-11-30  20201095.2 -1.0180  2020.0  320.5  1013.295333  1009.000000   \n",
       "2020-12-31  20201193.0 -0.8375  2020.0  351.0  1013.371290  1006.450000   \n",
       "2021-01-31  20208337.2 -0.8080  2021.0   16.0  1013.484516  1005.583871   \n",
       "2021-02-28  20210211.5 -0.6775  2021.0   45.5  1012.033214  1005.010714   \n",
       "\n",
       "                  SOI  \n",
       "2020-10-31   4.176452  \n",
       "2020-11-30   9.138000  \n",
       "2020-12-31  17.517097  \n",
       "2021-01-31  16.527419  \n",
       "2021-02-28  11.607143  "
      ]
     },
     "execution_count": 28,
     "metadata": {},
     "output_type": "execute_result"
    }
   ],
   "source": [
    "ENSO_index.tail()"
   ]
  },
  {
   "cell_type": "markdown",
   "metadata": {},
   "source": [
    "### selects only the columns we actually need "
   ]
  },
  {
   "cell_type": "code",
   "execution_count": 29,
   "metadata": {},
   "outputs": [],
   "source": [
    "ENSO_index = ENSO_index.loc[:,['SST','SOI']]"
   ]
  },
  {
   "cell_type": "markdown",
   "metadata": {},
   "source": [
    "### divides the SOI by 10 to get something closer to the NIWA SOI "
   ]
  },
  {
   "cell_type": "code",
   "execution_count": 30,
   "metadata": {},
   "outputs": [],
   "source": [
    "ENSO_index.loc[:,'SOI'] /= 10."
   ]
  },
  {
   "cell_type": "code",
   "execution_count": 31,
   "metadata": {},
   "outputs": [
    {
     "data": {
      "text/html": [
       "<div>\n",
       "<style scoped>\n",
       "    .dataframe tbody tr th:only-of-type {\n",
       "        vertical-align: middle;\n",
       "    }\n",
       "\n",
       "    .dataframe tbody tr th {\n",
       "        vertical-align: top;\n",
       "    }\n",
       "\n",
       "    .dataframe thead th {\n",
       "        text-align: right;\n",
       "    }\n",
       "</style>\n",
       "<table border=\"1\" class=\"dataframe\">\n",
       "  <thead>\n",
       "    <tr style=\"text-align: right;\">\n",
       "      <th></th>\n",
       "      <th>SST</th>\n",
       "      <th>SOI</th>\n",
       "    </tr>\n",
       "  </thead>\n",
       "  <tbody>\n",
       "    <tr>\n",
       "      <th>2020-02-29</th>\n",
       "      <td>0.3000</td>\n",
       "      <td>-0.199207</td>\n",
       "    </tr>\n",
       "    <tr>\n",
       "      <th>2020-03-31</th>\n",
       "      <td>0.3900</td>\n",
       "      <td>-0.537097</td>\n",
       "    </tr>\n",
       "    <tr>\n",
       "      <th>2020-04-30</th>\n",
       "      <td>0.5375</td>\n",
       "      <td>-0.075600</td>\n",
       "    </tr>\n",
       "    <tr>\n",
       "      <th>2020-05-31</th>\n",
       "      <td>-0.0260</td>\n",
       "      <td>0.255968</td>\n",
       "    </tr>\n",
       "    <tr>\n",
       "      <th>2020-06-30</th>\n",
       "      <td>-0.1250</td>\n",
       "      <td>-0.990867</td>\n",
       "    </tr>\n",
       "  </tbody>\n",
       "</table>\n",
       "</div>"
      ],
      "text/plain": [
       "               SST       SOI\n",
       "2020-02-29  0.3000 -0.199207\n",
       "2020-03-31  0.3900 -0.537097\n",
       "2020-04-30  0.5375 -0.075600\n",
       "2020-05-31 -0.0260  0.255968\n",
       "2020-06-30 -0.1250 -0.990867"
      ]
     },
     "execution_count": 31,
     "metadata": {},
     "output_type": "execute_result"
    }
   ],
   "source": [
    "ENSO_index.head()"
   ]
  },
  {
   "cell_type": "code",
   "execution_count": 32,
   "metadata": {},
   "outputs": [
    {
     "data": {
      "text/html": [
       "<div>\n",
       "<style scoped>\n",
       "    .dataframe tbody tr th:only-of-type {\n",
       "        vertical-align: middle;\n",
       "    }\n",
       "\n",
       "    .dataframe tbody tr th {\n",
       "        vertical-align: top;\n",
       "    }\n",
       "\n",
       "    .dataframe thead th {\n",
       "        text-align: right;\n",
       "    }\n",
       "</style>\n",
       "<table border=\"1\" class=\"dataframe\">\n",
       "  <thead>\n",
       "    <tr style=\"text-align: right;\">\n",
       "      <th></th>\n",
       "      <th>SST</th>\n",
       "      <th>SOI</th>\n",
       "    </tr>\n",
       "  </thead>\n",
       "  <tbody>\n",
       "    <tr>\n",
       "      <th>2020-10-31</th>\n",
       "      <td>-0.8650</td>\n",
       "      <td>0.417645</td>\n",
       "    </tr>\n",
       "    <tr>\n",
       "      <th>2020-11-30</th>\n",
       "      <td>-1.0180</td>\n",
       "      <td>0.913800</td>\n",
       "    </tr>\n",
       "    <tr>\n",
       "      <th>2020-12-31</th>\n",
       "      <td>-0.8375</td>\n",
       "      <td>1.751710</td>\n",
       "    </tr>\n",
       "    <tr>\n",
       "      <th>2021-01-31</th>\n",
       "      <td>-0.8080</td>\n",
       "      <td>1.652742</td>\n",
       "    </tr>\n",
       "    <tr>\n",
       "      <th>2021-02-28</th>\n",
       "      <td>-0.6775</td>\n",
       "      <td>1.160714</td>\n",
       "    </tr>\n",
       "  </tbody>\n",
       "</table>\n",
       "</div>"
      ],
      "text/plain": [
       "               SST       SOI\n",
       "2020-10-31 -0.8650  0.417645\n",
       "2020-11-30 -1.0180  0.913800\n",
       "2020-12-31 -0.8375  1.751710\n",
       "2021-01-31 -0.8080  1.652742\n",
       "2021-02-28 -0.6775  1.160714"
      ]
     },
     "execution_count": 32,
     "metadata": {},
     "output_type": "execute_result"
    }
   ],
   "source": [
    "ENSO_index.tail()"
   ]
  },
  {
   "cell_type": "markdown",
   "metadata": {},
   "source": [
    "### get the last date "
   ]
  },
  {
   "cell_type": "code",
   "execution_count": 33,
   "metadata": {},
   "outputs": [],
   "source": [
    "last_date = pd.to_datetime(ENSO_index.index[-1])"
   ]
  },
  {
   "cell_type": "code",
   "execution_count": 34,
   "metadata": {},
   "outputs": [
    {
     "data": {
      "text/plain": [
       "Timestamp('2021-02-28 00:00:00', freq='M')"
      ]
     },
     "execution_count": 34,
     "metadata": {},
     "output_type": "execute_result"
    }
   ],
   "source": [
    "last_date"
   ]
  },
  {
   "cell_type": "markdown",
   "metadata": {},
   "source": [
    "### get the values and the basis for plotting"
   ]
  },
  {
   "cell_type": "code",
   "execution_count": 35,
   "metadata": {},
   "outputs": [],
   "source": [
    "soi_values = ENSO_index.SOI.values"
   ]
  },
  {
   "cell_type": "code",
   "execution_count": 36,
   "metadata": {},
   "outputs": [],
   "source": [
    "nino_values = ENSO_index.SST.values "
   ]
  },
  {
   "cell_type": "code",
   "execution_count": 37,
   "metadata": {},
   "outputs": [],
   "source": [
    "basis = np.arange(len(ENSO_index))"
   ]
  },
  {
   "cell_type": "markdown",
   "metadata": {},
   "source": [
    "### build the list of dates for X-axis labeling "
   ]
  },
  {
   "cell_type": "code",
   "execution_count": 38,
   "metadata": {},
   "outputs": [],
   "source": [
    "dates = ENSO_index.index.to_pydatetime()"
   ]
  },
  {
   "cell_type": "code",
   "execution_count": 39,
   "metadata": {},
   "outputs": [],
   "source": [
    "dates_str = [f\"{x:%b %Y}\" for x in dates]"
   ]
  },
  {
   "cell_type": "markdown",
   "metadata": {},
   "source": [
    "### Now read the ENSO categories from NOAA, BoM, APCC and NOAA"
   ]
  },
  {
   "cell_type": "code",
   "execution_count": 40,
   "metadata": {},
   "outputs": [],
   "source": [
    "enso_cat_int = read_ENSO_categories()"
   ]
  },
  {
   "cell_type": "code",
   "execution_count": 41,
   "metadata": {},
   "outputs": [
    {
     "data": {
      "text/html": [
       "<div>\n",
       "<style scoped>\n",
       "    .dataframe tbody tr th:only-of-type {\n",
       "        vertical-align: middle;\n",
       "    }\n",
       "\n",
       "    .dataframe tbody tr th {\n",
       "        vertical-align: top;\n",
       "    }\n",
       "\n",
       "    .dataframe thead th {\n",
       "        text-align: right;\n",
       "    }\n",
       "</style>\n",
       "<table border=\"1\" class=\"dataframe\">\n",
       "  <thead>\n",
       "    <tr style=\"text-align: right;\">\n",
       "      <th></th>\n",
       "      <th>SST</th>\n",
       "      <th>SOI</th>\n",
       "    </tr>\n",
       "  </thead>\n",
       "  <tbody>\n",
       "    <tr>\n",
       "      <th>2020-10-31</th>\n",
       "      <td>-0.8650</td>\n",
       "      <td>0.417645</td>\n",
       "    </tr>\n",
       "    <tr>\n",
       "      <th>2020-11-30</th>\n",
       "      <td>-1.0180</td>\n",
       "      <td>0.913800</td>\n",
       "    </tr>\n",
       "    <tr>\n",
       "      <th>2020-12-31</th>\n",
       "      <td>-0.8375</td>\n",
       "      <td>1.751710</td>\n",
       "    </tr>\n",
       "    <tr>\n",
       "      <th>2021-01-31</th>\n",
       "      <td>-0.8080</td>\n",
       "      <td>1.652742</td>\n",
       "    </tr>\n",
       "    <tr>\n",
       "      <th>2021-02-28</th>\n",
       "      <td>-0.6775</td>\n",
       "      <td>1.160714</td>\n",
       "    </tr>\n",
       "  </tbody>\n",
       "</table>\n",
       "</div>"
      ],
      "text/plain": [
       "               SST       SOI\n",
       "2020-10-31 -0.8650  0.417645\n",
       "2020-11-30 -1.0180  0.913800\n",
       "2020-12-31 -0.8375  1.751710\n",
       "2021-01-31 -0.8080  1.652742\n",
       "2021-02-28 -0.6775  1.160714"
      ]
     },
     "execution_count": 41,
     "metadata": {},
     "output_type": "execute_result"
    }
   ],
   "source": [
    "ENSO_index.tail()"
   ]
  },
  {
   "cell_type": "code",
   "execution_count": 42,
   "metadata": {},
   "outputs": [
    {
     "data": {
      "text/html": [
       "<div>\n",
       "<style scoped>\n",
       "    .dataframe tbody tr th:only-of-type {\n",
       "        vertical-align: middle;\n",
       "    }\n",
       "\n",
       "    .dataframe tbody tr th {\n",
       "        vertical-align: top;\n",
       "    }\n",
       "\n",
       "    .dataframe thead th {\n",
       "        text-align: right;\n",
       "    }\n",
       "</style>\n",
       "<table border=\"1\" class=\"dataframe\">\n",
       "  <thead>\n",
       "    <tr style=\"text-align: right;\">\n",
       "      <th></th>\n",
       "      <th>NOAA</th>\n",
       "      <th>BoM</th>\n",
       "      <th>APCC</th>\n",
       "      <th>NIWA</th>\n",
       "    </tr>\n",
       "    <tr>\n",
       "      <th>date</th>\n",
       "      <th></th>\n",
       "      <th></th>\n",
       "      <th></th>\n",
       "      <th></th>\n",
       "    </tr>\n",
       "  </thead>\n",
       "  <tbody>\n",
       "    <tr>\n",
       "      <th>2020-10-31</th>\n",
       "      <td>-3</td>\n",
       "      <td>-3</td>\n",
       "      <td>-2</td>\n",
       "      <td>-3</td>\n",
       "    </tr>\n",
       "    <tr>\n",
       "      <th>2020-11-30</th>\n",
       "      <td>-3</td>\n",
       "      <td>-3</td>\n",
       "      <td>-2</td>\n",
       "      <td>-3</td>\n",
       "    </tr>\n",
       "    <tr>\n",
       "      <th>2020-12-31</th>\n",
       "      <td>-3</td>\n",
       "      <td>-3</td>\n",
       "      <td>-3</td>\n",
       "      <td>-3</td>\n",
       "    </tr>\n",
       "    <tr>\n",
       "      <th>2021-01-31</th>\n",
       "      <td>-3</td>\n",
       "      <td>-3</td>\n",
       "      <td>-2</td>\n",
       "      <td>-3</td>\n",
       "    </tr>\n",
       "    <tr>\n",
       "      <th>2021-02-28</th>\n",
       "      <td>-3</td>\n",
       "      <td>-3</td>\n",
       "      <td>0</td>\n",
       "      <td>-3</td>\n",
       "    </tr>\n",
       "  </tbody>\n",
       "</table>\n",
       "</div>"
      ],
      "text/plain": [
       "            NOAA  BoM  APCC  NIWA\n",
       "date                             \n",
       "2020-10-31    -3   -3    -2    -3\n",
       "2020-11-30    -3   -3    -2    -3\n",
       "2020-12-31    -3   -3    -3    -3\n",
       "2021-01-31    -3   -3    -2    -3\n",
       "2021-02-28    -3   -3     0    -3"
      ]
     },
     "execution_count": 42,
     "metadata": {},
     "output_type": "execute_result"
    }
   ],
   "source": [
    "enso_cat_int.tail()"
   ]
  },
  {
   "cell_type": "code",
   "execution_count": 43,
   "metadata": {},
   "outputs": [],
   "source": [
    "enso_cat_int = enso_cat_int.loc[ENSO_index.index,:]"
   ]
  },
  {
   "cell_type": "markdown",
   "metadata": {},
   "source": [
    "### colors for the heatmap "
   ]
  },
  {
   "cell_type": "code",
   "execution_count": 44,
   "metadata": {},
   "outputs": [],
   "source": [
    "col_dict={-3:\"#4233ff\",\n",
    "          -2:\"#33a2ff\",\n",
    "          -1:\"#33ffbb\",\n",
    "          0:\"#d4d4d4\",\n",
    "          1:\"#f3ff33\", \n",
    "          2:\"#ffa233\",\n",
    "          3:\"#dc0f09\"\n",
    "         }\n",
    "\n",
    "cm = ListedColormap([col_dict[x] for x in col_dict.keys()])"
   ]
  },
  {
   "cell_type": "code",
   "execution_count": 45,
   "metadata": {},
   "outputs": [],
   "source": [
    "matplotlib.rc('xtick', labelsize=14) \n",
    "matplotlib.rc('ytick', labelsize=14) "
   ]
  },
  {
   "cell_type": "code",
   "execution_count": 48,
   "metadata": {},
   "outputs": [
    {
     "data": {
      "text/plain": [
       "Text(0.5, 1.0, 'Pacific Regional Climate Centre ENSO tracker\\n')"
      ]
     },
     "execution_count": 48,
     "metadata": {},
     "output_type": "execute_result"
    },
    {
     "data": {
      "text/plain": [
       "<matplotlib.axes._axes.Axes at 0x7fa8841bce80>"
      ]
     },
     "execution_count": 48,
     "metadata": {},
     "output_type": "execute_result"
    },
    {
     "data": {
      "text/plain": [
       "[<matplotlib.axis.YTick at 0x7fa8841ccfd0>,\n",
       " <matplotlib.axis.YTick at 0x7fa8841ccb50>,\n",
       " <matplotlib.axis.YTick at 0x7fa8841c4220>,\n",
       " <matplotlib.axis.YTick at 0x7fa8842ce2e0>]"
      ]
     },
     "execution_count": 48,
     "metadata": {},
     "output_type": "execute_result"
    },
    {
     "data": {
      "text/plain": [
       "[Text(0, 0.8, 'NOAA'),\n",
       " Text(0, 1.8, 'BoM'),\n",
       " Text(0, 2.8, 'APCC'),\n",
       " Text(0, 3.8, 'NIWA')]"
      ]
     },
     "execution_count": 48,
     "metadata": {},
     "output_type": "execute_result"
    },
    {
     "data": {
      "text/plain": [
       "(0.0, 4.0)"
      ]
     },
     "execution_count": 48,
     "metadata": {},
     "output_type": "execute_result"
    },
    {
     "data": {
      "text/plain": [
       "[<matplotlib.lines.Line2D at 0x7fa88426a340>,\n",
       " <matplotlib.lines.Line2D at 0x7fa884284370>,\n",
       " <matplotlib.lines.Line2D at 0x7fa8842144f0>,\n",
       " <matplotlib.lines.Line2D at 0x7fa884255bb0>,\n",
       " <matplotlib.lines.Line2D at 0x7fa88428bfd0>,\n",
       " <matplotlib.lines.Line2D at 0x7fa88421abe0>,\n",
       " <matplotlib.lines.Line2D at 0x7fa88421af10>,\n",
       " <matplotlib.lines.Line2D at 0x7fa884225460>,\n",
       " <matplotlib.lines.Line2D at 0x7fa884225880>,\n",
       " <matplotlib.lines.Line2D at 0x7fa884225ca0>,\n",
       " <matplotlib.lines.Line2D at 0x7fa88422c100>,\n",
       " <matplotlib.lines.Line2D at 0x7fa88422c520>,\n",
       " <matplotlib.lines.Line2D at 0x7fa88422c940>,\n",
       " <matplotlib.lines.Line2D at 0x7fa88422cd60>]"
      ]
     },
     "execution_count": 48,
     "metadata": {},
     "output_type": "execute_result"
    },
    {
     "data": {
      "text/plain": [
       "[<matplotlib.lines.Line2D at 0x7fa8842ce820>,\n",
       " <matplotlib.lines.Line2D at 0x7fa88c7fbf70>,\n",
       " <matplotlib.lines.Line2D at 0x7fa884237a00>,\n",
       " <matplotlib.lines.Line2D at 0x7fa884237e20>]"
      ]
     },
     "execution_count": 48,
     "metadata": {},
     "output_type": "execute_result"
    },
    {
     "data": {
      "text/plain": [
       "<BarContainer object of 4 artists>"
      ]
     },
     "execution_count": 48,
     "metadata": {},
     "output_type": "execute_result"
    },
    {
     "data": {
      "text/plain": [
       "<BarContainer object of 9 artists>"
      ]
     },
     "execution_count": 48,
     "metadata": {},
     "output_type": "execute_result"
    },
    {
     "data": {
      "text/plain": [
       "[<matplotlib.axis.XTick at 0x7fa884327b50>,\n",
       " <matplotlib.axis.XTick at 0x7fa884327b20>,\n",
       " <matplotlib.axis.XTick at 0x7fa884264820>,\n",
       " <matplotlib.axis.XTick at 0x7fa884264cd0>,\n",
       " <matplotlib.axis.XTick at 0x7fa88426a220>,\n",
       " <matplotlib.axis.XTick at 0x7fa884264a00>,\n",
       " <matplotlib.axis.XTick at 0x7fa88433e6a0>,\n",
       " <matplotlib.axis.XTick at 0x7fa884192b80>,\n",
       " <matplotlib.axis.XTick at 0x7fa88419c0d0>,\n",
       " <matplotlib.axis.XTick at 0x7fa88419c4f0>,\n",
       " <matplotlib.axis.XTick at 0x7fa88419ca00>,\n",
       " <matplotlib.axis.XTick at 0x7fa88419cf10>,\n",
       " <matplotlib.axis.XTick at 0x7fa88413f460>]"
      ]
     },
     "execution_count": 48,
     "metadata": {},
     "output_type": "execute_result"
    },
    {
     "data": {
      "text/plain": [
       "[Text(0, 0, 'Feb 2020'),\n",
       " Text(1, 0, 'Mar 2020'),\n",
       " Text(2, 0, 'Apr 2020'),\n",
       " Text(3, 0, 'May 2020'),\n",
       " Text(4, 0, 'Jun 2020'),\n",
       " Text(5, 0, 'Jul 2020'),\n",
       " Text(6, 0, 'Aug 2020'),\n",
       " Text(7, 0, 'Sep 2020'),\n",
       " Text(8, 0, 'Oct 2020'),\n",
       " Text(9, 0, 'Nov 2020'),\n",
       " Text(10, 0, 'Dec 2020'),\n",
       " Text(11, 0, 'Jan 2021'),\n",
       " Text(12, 0, 'Feb 2021')]"
      ]
     },
     "execution_count": 48,
     "metadata": {},
     "output_type": "execute_result"
    },
    {
     "data": {
      "text/plain": [
       "(-0.5, 12.5)"
      ]
     },
     "execution_count": 48,
     "metadata": {},
     "output_type": "execute_result"
    },
    {
     "data": {
      "text/plain": [
       "(-2.0, 2.0)"
      ]
     },
     "execution_count": 48,
     "metadata": {},
     "output_type": "execute_result"
    },
    {
     "data": {
      "text/plain": [
       "[<matplotlib.axis.YTick at 0x7fa88432b430>,\n",
       " <matplotlib.axis.YTick at 0x7fa884327fd0>,\n",
       " <matplotlib.axis.YTick at 0x7fa88c6123a0>,\n",
       " <matplotlib.axis.YTick at 0x7fa884271460>,\n",
       " <matplotlib.axis.YTick at 0x7fa884271970>,\n",
       " <matplotlib.axis.YTick at 0x7fa884271e80>,\n",
       " <matplotlib.axis.YTick at 0x7fa88433ee20>]"
      ]
     },
     "execution_count": 48,
     "metadata": {},
     "output_type": "execute_result"
    },
    {
     "data": {
      "text/plain": [
       "<matplotlib.lines.Line2D at 0x7fa88419cf70>"
      ]
     },
     "execution_count": 48,
     "metadata": {},
     "output_type": "execute_result"
    },
    {
     "data": {
      "text/plain": [
       "<matplotlib.lines.Line2D at 0x7fa88419cb20>"
      ]
     },
     "execution_count": 48,
     "metadata": {},
     "output_type": "execute_result"
    },
    {
     "data": {
      "text/plain": [
       "Text(24.35, 0.5, 'monthly NINO 3.4\\nanomalies (℃)')"
      ]
     },
     "execution_count": 48,
     "metadata": {},
     "output_type": "execute_result"
    },
    {
     "data": {
      "text/plain": [
       "[<matplotlib.lines.Line2D at 0x7fa88413fd60>,\n",
       " <matplotlib.lines.Line2D at 0x7fa88c6122e0>,\n",
       " <matplotlib.lines.Line2D at 0x7fa88413ff40>,\n",
       " <matplotlib.lines.Line2D at 0x7fa88419c2e0>,\n",
       " <matplotlib.lines.Line2D at 0x7fa884141cd0>,\n",
       " <matplotlib.lines.Line2D at 0x7fa88414c130>,\n",
       " <matplotlib.lines.Line2D at 0x7fa88414c550>,\n",
       " <matplotlib.lines.Line2D at 0x7fa88414c970>,\n",
       " <matplotlib.lines.Line2D at 0x7fa88414cd90>,\n",
       " <matplotlib.lines.Line2D at 0x7fa8841311f0>,\n",
       " <matplotlib.lines.Line2D at 0x7fa884131610>,\n",
       " <matplotlib.lines.Line2D at 0x7fa884131a30>]"
      ]
     },
     "execution_count": 48,
     "metadata": {},
     "output_type": "execute_result"
    },
    {
     "data": {
      "text/plain": [
       "Text(0.5, 165.08, 'month')"
      ]
     },
     "execution_count": 48,
     "metadata": {},
     "output_type": "execute_result"
    },
    {
     "data": {
      "text/plain": [
       "Text(0.01, 0.9, 'NINO 3.4')"
      ]
     },
     "execution_count": 48,
     "metadata": {},
     "output_type": "execute_result"
    },
    {
     "data": {
      "text/plain": [
       "<BarContainer object of 9 artists>"
      ]
     },
     "execution_count": 48,
     "metadata": {},
     "output_type": "execute_result"
    },
    {
     "data": {
      "text/plain": [
       "<BarContainer object of 4 artists>"
      ]
     },
     "execution_count": 48,
     "metadata": {},
     "output_type": "execute_result"
    },
    {
     "data": {
      "text/plain": [
       "[<matplotlib.axis.XTick at 0x7fa8842dde80>,\n",
       " <matplotlib.axis.XTick at 0x7fa8842dde50>,\n",
       " <matplotlib.axis.XTick at 0x7fa884278d90>,\n",
       " <matplotlib.axis.XTick at 0x7fa88427e2e0>,\n",
       " <matplotlib.axis.XTick at 0x7fa884271a00>,\n",
       " <matplotlib.axis.XTick at 0x7fa884264940>,\n",
       " <matplotlib.axis.XTick at 0x7fa8842d79d0>,\n",
       " <matplotlib.axis.XTick at 0x7fa8840e4a90>,\n",
       " <matplotlib.axis.XTick at 0x7fa8840e4fa0>,\n",
       " <matplotlib.axis.XTick at 0x7fa8840f7520>,\n",
       " <matplotlib.axis.XTick at 0x7fa8840f7a30>,\n",
       " <matplotlib.axis.XTick at 0x7fa8840f7fd0>,\n",
       " <matplotlib.axis.XTick at 0x7fa8840fa520>]"
      ]
     },
     "execution_count": 48,
     "metadata": {},
     "output_type": "execute_result"
    },
    {
     "data": {
      "text/plain": [
       "[Text(0, 0, 'Feb 2020'),\n",
       " Text(1, 0, 'Mar 2020'),\n",
       " Text(2, 0, 'Apr 2020'),\n",
       " Text(3, 0, 'May 2020'),\n",
       " Text(4, 0, 'Jun 2020'),\n",
       " Text(5, 0, 'Jul 2020'),\n",
       " Text(6, 0, 'Aug 2020'),\n",
       " Text(7, 0, 'Sep 2020'),\n",
       " Text(8, 0, 'Oct 2020'),\n",
       " Text(9, 0, 'Nov 2020'),\n",
       " Text(10, 0, 'Dec 2020'),\n",
       " Text(11, 0, 'Jan 2021'),\n",
       " Text(12, 0, 'Feb 2021')]"
      ]
     },
     "execution_count": 48,
     "metadata": {},
     "output_type": "execute_result"
    },
    {
     "data": {
      "text/plain": [
       "(-0.5, 12.5)"
      ]
     },
     "execution_count": 48,
     "metadata": {},
     "output_type": "execute_result"
    },
    {
     "data": {
      "text/plain": [
       "(-2.0, 2.0)"
      ]
     },
     "execution_count": 48,
     "metadata": {},
     "output_type": "execute_result"
    },
    {
     "data": {
      "text/plain": [
       "[<matplotlib.axis.YTick at 0x7fa8842e1760>,\n",
       " <matplotlib.axis.YTick at 0x7fa8842e1340>,\n",
       " <matplotlib.axis.YTick at 0x7fa88427e8b0>,\n",
       " <matplotlib.axis.YTick at 0x7fa884284580>,\n",
       " <matplotlib.axis.YTick at 0x7fa884284a90>,\n",
       " <matplotlib.axis.YTick at 0x7fa884284fa0>,\n",
       " <matplotlib.axis.YTick at 0x7fa8842dd190>]"
      ]
     },
     "execution_count": 48,
     "metadata": {},
     "output_type": "execute_result"
    },
    {
     "data": {
      "text/plain": [
       "<matplotlib.lines.Line2D at 0x7fa8840f7700>"
      ]
     },
     "execution_count": 48,
     "metadata": {},
     "output_type": "execute_result"
    },
    {
     "data": {
      "text/plain": [
       "<matplotlib.lines.Line2D at 0x7fa8840f7670>"
      ]
     },
     "execution_count": 48,
     "metadata": {},
     "output_type": "execute_result"
    },
    {
     "data": {
      "text/plain": [
       "Text(24.35, 0.5, 'monthly SOI (std)')"
      ]
     },
     "execution_count": 48,
     "metadata": {},
     "output_type": "execute_result"
    },
    {
     "data": {
      "text/plain": [
       "Text(0.01, 0.9, 'SOI')"
      ]
     },
     "execution_count": 48,
     "metadata": {},
     "output_type": "execute_result"
    },
    {
     "data": {
      "text/plain": [
       "[<matplotlib.lines.Line2D at 0x7fa8840facd0>,\n",
       " <matplotlib.lines.Line2D at 0x7fa88427e820>,\n",
       " <matplotlib.lines.Line2D at 0x7fa884119790>,\n",
       " <matplotlib.lines.Line2D at 0x7fa884119bb0>,\n",
       " <matplotlib.lines.Line2D at 0x7fa884119fd0>,\n",
       " <matplotlib.lines.Line2D at 0x7fa884110400>,\n",
       " <matplotlib.lines.Line2D at 0x7fa884110820>,\n",
       " <matplotlib.lines.Line2D at 0x7fa884138310>,\n",
       " <matplotlib.lines.Line2D at 0x7fa884110f70>,\n",
       " <matplotlib.lines.Line2D at 0x7fa88411d3d0>,\n",
       " <matplotlib.lines.Line2D at 0x7fa88411d7f0>,\n",
       " <matplotlib.lines.Line2D at 0x7fa88411dc10>]"
      ]
     },
     "execution_count": 48,
     "metadata": {},
     "output_type": "execute_result"
    },
    {
     "data": {
      "image/png": "[encoded data removed]",
      "text/plain": [
       "<Figure size 576x576 with 4 Axes>"
      ]
     },
     "metadata": {},
     "output_type": "display_data"
    }
   ],
   "source": [
    "f = plt.figure(figsize=(8,8))\n",
    "\n",
    "# defines the axes [left, bottom, width, height]\n",
    "\n",
    "ax0 = f.add_axes([0.1, 0.66, 0.9, 0.3])\n",
    "\n",
    "ax0.set_title(\"Pacific Regional Climate Centre ENSO tracker\\n\", fontsize=16)\n",
    "\n",
    "ax1 = f.add_axes([0.1, 0.33, 0.755, 0.33])\n",
    "\n",
    "ax2 = f.add_axes([0.1, 0.05, 0.755, 0.30])\n",
    "\n",
    "#============================================================================================================================\n",
    "# first set of axes: ENSO categories heatmap \n",
    "\n",
    "sns.heatmap(enso_cat_int.T, cmap=cm, center=0, vmin=-3, vmax=3, ax=ax0, \\\n",
    "            cbar_kws={'aspect':5, 'pad':0.01}) \n",
    "\n",
    "colorbar = ax0.collections[0].colorbar \n",
    "\n",
    "ax0.set_yticks([0.8, 1.8, 2.8, 3.8]);\n",
    "\n",
    "ax0.set_yticklabels(['NOAA','BoM','APCC','NIWA'], fontsize=14)\n",
    "\n",
    "ax0.set_ylim(bottom=0,top=4)\n",
    "\n",
    "[ax0.axvline(x, color='k', lw=2, alpha=0.5) for x in range(0,len(enso_cat_int) + 1)];\n",
    "\n",
    "[ax0.axhline(x, color='k', lw=2, alpha=0.5) for x in range(1,5)];\n",
    "\n",
    "ax0.tick_params(direction='out', length=0, width=0)\n",
    "\n",
    "colorbar.set_ticks([-2.5, -1.75, -0.8,  0.,  0.90, 1.75,  2.6])\n",
    "\n",
    "colorbar.set_ticklabels([\"La Nina\", \"La Nina Alert\", \"La Nina Watch\", \"Neutral\", \"El Nino Watch\", \"El Nino Alert\", \"El Nino\"])    \n",
    "\n",
    "colorbar.ax.tick_params(direction='out', length=0, width=0)\n",
    "\n",
    "#============================================================================================================================\n",
    "# second set of axes: ENSO barplot\n",
    "\n",
    "ax1.bar(basis[nino_values>=0],nino_values[nino_values>=0], width=1, facecolor='coral', alpha=.8, edgecolor='k', lw=2)\n",
    "ax1.bar(basis[nino_values<0],nino_values[nino_values<0], width=1, facecolor='steelblue', alpha=.8, edgecolor='k', lw=2)\n",
    "\n",
    "ax1.set_xticks(basis)\n",
    "\n",
    "ax1.set_xticklabels(dates_str, rotation=90)\n",
    "\n",
    "ax1.set_xlim([-0.5,len(dates) - 0.5])\n",
    "\n",
    "# get the minimum and maximum values, and set limits and ticks for the y-axis accordingly \n",
    "max_nino = np.ceil(np.max(np.abs(nino_values)))\n",
    "min_nino =- max_nino\n",
    "\n",
    "if max_nino > 1: \n",
    "    ax1.set_ylim([min_nino, max_nino])\n",
    "    ax1.set_yticks(np.arange(min_nino+0.5, max_nino, 0.5))\n",
    "else: \n",
    "    ax1.set_ylim([-1, 1])\n",
    "    ax1.set_yticks([-0.7, 0, 0.7])                  \n",
    "    \n",
    "ax1.axhline(-0.7, ls=':', color='b')\n",
    "ax1.axhline(0.7, ls=':', color='r')\n",
    "\n",
    "ax1.yaxis.tick_right()\n",
    "\n",
    "ax1.set_ylabel('monthly NINO 3.4\\nanomalies (℃)', fontsize=14)\n",
    "\n",
    "ax1.yaxis.set_label_position(\"right\")\n",
    "\n",
    "[ax1.axvline(x, color='k', lw=1, alpha=0.5, ls=':') for x in np.arange(0.5,len(dates)-0.5)];\n",
    "\n",
    "ax1.set_xlabel('month', fontsize=14)\n",
    "\n",
    "ax1.text(0.01, 0.9, 'NINO 3.4', transform=ax1.transAxes, fontsize=15)\n",
    "\n",
    "#============================================================================================================================\n",
    "# second set of axes: SOI barplot\n",
    "\n",
    "ax2.bar(basis[soi_values>=0],soi_values[soi_values>=0], width=1, facecolor='steelblue', alpha=.8, edgecolor='k', lw=2)\n",
    "ax2.bar(basis[soi_values<0],soi_values[soi_values<0], width=1, facecolor='coral', alpha=.8, edgecolor='k', lw=2)\n",
    "\n",
    "ax2.set_xticks(basis)\n",
    "\n",
    "ax2.set_xticklabels(dates_str, rotation=90)\n",
    "\n",
    "ax2.set_xlim([-0.5,len(dates) - 0.5])\n",
    "\n",
    "# get the minimum and maximum values, and set limits and ticks for the y-axis accordingly \n",
    "max_soi = np.ceil(np.max(np.abs(soi_values)))\n",
    "min_soi =- max_soi\n",
    "\n",
    "if max_soi > 1.5: \n",
    "    ax2.set_ylim([min_soi, max_soi])\n",
    "    ax2.set_yticks(np.arange(min_soi+0.5, max_soi, 0.5))\n",
    "else: \n",
    "    ax2.set_ylim([-1.5, 1.5])\n",
    "    ax2.set_yticks([-1, 0, 1])       \n",
    "\n",
    "ax2.axhline(-1, ls=':', color='r')\n",
    "ax2.axhline(1, ls=':', color='b')\n",
    "\n",
    "ax2.yaxis.tick_right()\n",
    "\n",
    "ax2.yaxis.set_label_position(\"right\")\n",
    "\n",
    "ax2.set_ylabel('monthly SOI (std)', fontsize=14)\n",
    "\n",
    "ax2.yaxis.set_label_position(\"right\")\n",
    "\n",
    "ax2.text(0.01, 0.9, 'SOI', transform=ax2.transAxes, fontsize=15)\n",
    "\n",
    "[ax2.axvline(x, color='k', lw=1, alpha=0.5, ls=':') for x in np.arange(0.5,len(dates)-0.5)];\n",
    "\n",
    "# f.patch.set_facecolor('0.99')\n",
    "f.patch.set_facecolor('w')"
   ]
  },
  {
   "cell_type": "markdown",
   "metadata": {},
   "source": [
    "### saves to file "
   ]
  },
  {
   "cell_type": "code",
   "execution_count": 49,
   "metadata": {},
   "outputs": [],
   "source": [
    "f.savefig('../figures/prototype_Pacific_RCC.png', dpi=200, bbox_inches='tight')"
   ]
  },
  {
   "cell_type": "code",
   "execution_count": null,
   "metadata": {},
   "outputs": [],
   "source": [
    "f.savefig('./figures/prototype_Pacific_RCC.png', dpi=200, bbox_inches='tight')"
   ]
  }
 ],
 "metadata": {
  "kernelspec": {
   "display_name": "Python 3",
   "language": "python",
   "name": "python3"
  },
  "language_info": {
   "codemirror_mode": {
    "name": "ipython",
    "version": 3
   },
   "file_extension": ".py",
   "mimetype": "text/x-python",
   "name": "python",
   "nbconvert_exporter": "python",
   "pygments_lexer": "ipython3",
   "version": "3.9.1"
  }
 },
 "nbformat": 4,
 "nbformat_minor": 4
}
