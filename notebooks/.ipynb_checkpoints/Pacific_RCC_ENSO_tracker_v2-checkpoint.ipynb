{
 "cells": [
  {
   "cell_type": "markdown",
   "metadata": {},
   "source": [
    "### Imports "
   ]
  },
  {
   "cell_type": "code",
   "execution_count": 47,
   "metadata": {},
   "outputs": [],
   "source": [
    "import os \n",
    "import sys\n",
    "import pathlib\n",
    "import requests\n",
    "from io import StringIO, BytesIO\n",
    "from datetime import datetime, timedelta\n",
    "from dateutil.relativedelta import relativedelta"
   ]
  },
  {
   "cell_type": "code",
   "execution_count": 48,
   "metadata": {},
   "outputs": [],
   "source": [
    "import matplotlib\n",
    "from matplotlib import pyplot as plt\n",
    "from matplotlib.colors import ListedColormap"
   ]
  },
  {
   "cell_type": "code",
   "execution_count": 49,
   "metadata": {},
   "outputs": [],
   "source": [
    "matplotlib.rc('xtick', labelsize=14) \n",
    "matplotlib.rc('ytick', labelsize=14) "
   ]
  },
  {
   "cell_type": "code",
   "execution_count": 50,
   "metadata": {},
   "outputs": [],
   "source": [
    "import seaborn as sns"
   ]
  },
  {
   "cell_type": "code",
   "execution_count": 51,
   "metadata": {},
   "outputs": [],
   "source": [
    "import numpy as np\n",
    "import pandas as pd"
   ]
  },
  {
   "cell_type": "code",
   "execution_count": 52,
   "metadata": {},
   "outputs": [],
   "source": [
    "from dateparser import parse"
   ]
  },
  {
   "cell_type": "code",
   "execution_count": 53,
   "metadata": {},
   "outputs": [],
   "source": [
    "headers = {'User-Agent' : \"Mozilla/5.0 (Macintosh; Intel Mac OS X 11_2_3) AppleWebKit/537.36 (KHTML, like Gecko) Chrome/89.0.4389.128 Safari/537.36\"}"
   ]
  },
  {
   "cell_type": "markdown",
   "metadata": {},
   "source": [
    "### Some parameters "
   ]
  },
  {
   "cell_type": "markdown",
   "metadata": {},
   "source": [
    "### number of months to keep (last 12)"
   ]
  },
  {
   "cell_type": "code",
   "execution_count": 54,
   "metadata": {},
   "outputs": [],
   "source": [
    "n_months = 12"
   ]
  },
  {
   "cell_type": "code",
   "execution_count": 55,
   "metadata": {},
   "outputs": [],
   "source": [
    "current_year = parse('this year')\n",
    "current_year = current_year.strftime(\"%Y\")"
   ]
  },
  {
   "cell_type": "code",
   "execution_count": 56,
   "metadata": {},
   "outputs": [],
   "source": [
    "year = int(current_year)"
   ]
  },
  {
   "cell_type": "code",
   "execution_count": 57,
   "metadata": {},
   "outputs": [],
   "source": [
    "this_month = parse('-1 months ago')\n",
    "this_month = this_month.strftime(\"%m\")"
   ]
  },
  {
   "cell_type": "code",
   "execution_count": 58,
   "metadata": {},
   "outputs": [],
   "source": [
    "month = int(this_month)"
   ]
  },
  {
   "cell_type": "code",
   "execution_count": 59,
   "metadata": {},
   "outputs": [],
   "source": [
    "enso_tracker_path = '../template'"
   ]
  },
  {
   "cell_type": "code",
   "execution_count": 60,
   "metadata": {},
   "outputs": [],
   "source": [
    "figures_path = './figures'"
   ]
  },
  {
   "cell_type": "code",
   "execution_count": 61,
   "metadata": {},
   "outputs": [],
   "source": [
    "if not pathlib.Path(figures_path).exists(): \n",
    "    pathlib.Path(figures_path).mkdir(parents=True)"
   ]
  },
  {
   "cell_type": "code",
   "execution_count": 62,
   "metadata": {},
   "outputs": [],
   "source": [
    "last_valid = datetime(year, month, 1)"
   ]
  },
  {
   "cell_type": "code",
   "execution_count": 63,
   "metadata": {},
   "outputs": [],
   "source": [
    "last_valid = last_valid + pd.offsets.MonthEnd(0) "
   ]
  },
  {
   "cell_type": "code",
   "execution_count": 64,
   "metadata": {},
   "outputs": [
    {
     "data": {
      "text/plain": [
       "Timestamp('2022-08-31 00:00:00')"
      ]
     },
     "execution_count": 64,
     "metadata": {},
     "output_type": "execute_result"
    }
   ],
   "source": [
    "last_valid"
   ]
  },
  {
   "cell_type": "code",
   "execution_count": 65,
   "metadata": {},
   "outputs": [],
   "source": [
    "start_date = last_valid - relativedelta(months=n_months)"
   ]
  },
  {
   "cell_type": "code",
   "execution_count": 66,
   "metadata": {},
   "outputs": [
    {
     "data": {
      "text/plain": [
       "Timestamp('2021-08-31 00:00:00')"
      ]
     },
     "execution_count": 66,
     "metadata": {},
     "output_type": "execute_result"
    }
   ],
   "source": [
    "start_date"
   ]
  },
  {
   "cell_type": "markdown",
   "metadata": {},
   "source": [
    "### Access and read the NINO3.4 index from the BoM "
   ]
  },
  {
   "cell_type": "code",
   "execution_count": 67,
   "metadata": {},
   "outputs": [],
   "source": [
    "def get_BoM_NINO(nino=\"3.4\", base_url = \"http://www.bom.gov.au/climate/enso/\", start_date=None, end_date=None): \n",
    "    \"\"\"\n",
    "    Get the NINO 3.4 index from the BoM\n",
    "    \"\"\"\n",
    "    \n",
    "    from datetime import datetime, timedelta\n",
    "    from dateutil.relativedelta import relativedelta\n",
    "    import numpy as np \n",
    "    import pandas as pd\n",
    "    \n",
    "    url_nino = f\"{base_url}/nino_{nino}.txt\"\n",
    "    r = requests.get(url_nino, headers=headers)\n",
    "\n",
    "    if r.status_code != 200: \n",
    "        print(f\"something went wrong with accessing the URL {url_nino}\")\n",
    "\n",
    "    else: \n",
    "        # read the weekly NINO index, and assign the end date of the weekly period \n",
    "        nino_index = pd.read_table(BytesIO(r.content), sep=',', header=None, index_col=1, parse_dates=True, names=['iDate','SST'])\n",
    "\n",
    "    nino_index = nino_index.resample('1M').mean()\n",
    "    \n",
    "    if not (start_date == end_date == None):\n",
    "        nino_index = nino_index.loc[start_date:end_date,:]\n",
    "    else: \n",
    "        start_date = (datetime.utcnow() - timedelta(15)) - relativedelta(months=n_months)\n",
    "        nino_index = nino_index.loc[start_date:,:]\n",
    "    \n",
    "    return nino_index "
   ]
  },
  {
   "cell_type": "code",
   "execution_count": 68,
   "metadata": {},
   "outputs": [],
   "source": [
    "def get_LP_SOI(url='https://data.longpaddock.qld.gov.au/SeasonalClimateOutlook/SouthernOscillationIndex/SOIDataFiles/DailySOI1933-1992Base.txt', start_date=None, end_date=None): \n",
    "    \"\"\"\n",
    "    get the SOI from LongPaddock\n",
    "    \"\"\"\n",
    "    \n",
    "    from datetime import datetime, timedelta\n",
    "    from dateutil.relativedelta import relativedelta\n",
    "    import numpy as np \n",
    "    import pandas as pd\n",
    "    \n",
    "    r = requests.get(url)\n",
    "\n",
    "    if r.status_code != 200: \n",
    "        print(f\"something went wrong with accessing the URL {url_soi}\")\n",
    "    else: \n",
    "        soi_index = pd.read_table(BytesIO(r.content), sep='\\s+', engine='python') \n",
    "        \n",
    "    index = [datetime(int(year),1,1) + timedelta(int(day)-1) for year, day in soi_index.loc[:,['Year','Day']].values]\n",
    "    soi_index.index = index\n",
    "    soi_index = soi_index.resample('1M').mean()\n",
    "\n",
    "    if not (start_date == end_date == None):\n",
    "        soi_index = soi_index.loc[start_date:end_date,:]\n",
    "    else: \n",
    "        start_date = (datetime.utcnow() - timedelta(15)) - relativedelta(months=n_months)\n",
    "        soi_index = soi_index.loc[start_date:,:]\n",
    "    \n",
    "    return soi_index"
   ]
  },
  {
   "cell_type": "code",
   "execution_count": 69,
   "metadata": {},
   "outputs": [],
   "source": [
    "def read_ENSO_categories(dpath = '../template', fname = 'Pacific_RCC_ENSO_tracker.csv'): \n",
    "    \n",
    "    import pathlib\n",
    "    import numpy as np \n",
    "    import pandas as pd \n",
    "    \n",
    "    filename = pathlib.Path(dpath).joinpath(fname)\n",
    "    \n",
    "    enso_cat = pd.read_csv(filename)\n",
    "    \n",
    "    # goes from string to categories \n",
    "    cat_to_int = {} \n",
    "\n",
    "    cat_to_int['La_Nina'] = -3\n",
    "    cat_to_int['La_Nina_alert'] = -2\n",
    "    cat_to_int['La_Nina_watch'] = -1\n",
    "    cat_to_int['neutral'] = 0\n",
    "    cat_to_int['El_Nino_watch'] = 1 \n",
    "    cat_to_int['El_Nino_alert'] = 2 \n",
    "    cat_to_int['El_Nino'] = 3\n",
    "    \n",
    "    enso_cat_int = enso_cat.replace(cat_to_int)\n",
    "    \n",
    "    enso_cat_int.loc[:,'date'] = np.NaN\n",
    "    \n",
    "    # build the index \n",
    "    enso_cat_int.loc[:,'date'] = enso_cat_int.loc[:,'YEAR'].astype(str) + \"-\" + enso_cat_int.loc[:,'MONTH'].astype(str).str.zfill(2)\n",
    "    \n",
    "    enso_cat_int = enso_cat_int.set_index('date').drop(['YEAR','MONTH'],axis=1) \n",
    "    \n",
    "    enso_cat_int.index = pd.to_datetime(enso_cat_int.index) + pd.offsets.MonthEnd(0) \n",
    "    \n",
    "    return enso_cat_int"
   ]
  },
  {
   "cell_type": "code",
   "execution_count": 70,
   "metadata": {},
   "outputs": [],
   "source": [
    "nino_index = get_BoM_NINO(start_date=start_date, end_date=last_valid)"
   ]
  },
  {
   "cell_type": "code",
   "execution_count": 71,
   "metadata": {},
   "outputs": [
    {
     "data": {
      "text/html": [
       "<div>\n",
       "<style scoped>\n",
       "    .dataframe tbody tr th:only-of-type {\n",
       "        vertical-align: middle;\n",
       "    }\n",
       "\n",
       "    .dataframe tbody tr th {\n",
       "        vertical-align: top;\n",
       "    }\n",
       "\n",
       "    .dataframe thead th {\n",
       "        text-align: right;\n",
       "    }\n",
       "</style>\n",
       "<table border=\"1\" class=\"dataframe\">\n",
       "  <thead>\n",
       "    <tr style=\"text-align: right;\">\n",
       "      <th></th>\n",
       "      <th>iDate</th>\n",
       "      <th>SST</th>\n",
       "    </tr>\n",
       "  </thead>\n",
       "  <tbody>\n",
       "    <tr>\n",
       "      <th>2021-08-31</th>\n",
       "      <td>20210795.20</td>\n",
       "      <td>-0.1660</td>\n",
       "    </tr>\n",
       "    <tr>\n",
       "      <th>2021-09-30</th>\n",
       "      <td>20210892.25</td>\n",
       "      <td>-0.2275</td>\n",
       "    </tr>\n",
       "    <tr>\n",
       "      <th>2021-10-31</th>\n",
       "      <td>20210997.00</td>\n",
       "      <td>-0.5940</td>\n",
       "    </tr>\n",
       "    <tr>\n",
       "      <th>2021-11-30</th>\n",
       "      <td>20211111.50</td>\n",
       "      <td>-0.5925</td>\n",
       "    </tr>\n",
       "    <tr>\n",
       "      <th>2021-12-31</th>\n",
       "      <td>20211192.00</td>\n",
       "      <td>-0.6750</td>\n",
       "    </tr>\n",
       "    <tr>\n",
       "      <th>2022-01-31</th>\n",
       "      <td>20218336.20</td>\n",
       "      <td>-0.7040</td>\n",
       "    </tr>\n",
       "    <tr>\n",
       "      <th>2022-02-28</th>\n",
       "      <td>20220193.25</td>\n",
       "      <td>-0.6000</td>\n",
       "    </tr>\n",
       "    <tr>\n",
       "      <th>2022-03-31</th>\n",
       "      <td>20220292.50</td>\n",
       "      <td>-0.7900</td>\n",
       "    </tr>\n",
       "    <tr>\n",
       "      <th>2022-04-30</th>\n",
       "      <td>20220390.25</td>\n",
       "      <td>-0.6575</td>\n",
       "    </tr>\n",
       "    <tr>\n",
       "      <th>2022-05-31</th>\n",
       "      <td>20220495.00</td>\n",
       "      <td>-0.7120</td>\n",
       "    </tr>\n",
       "    <tr>\n",
       "      <th>2022-06-30</th>\n",
       "      <td>20220592.25</td>\n",
       "      <td>-0.4050</td>\n",
       "    </tr>\n",
       "    <tr>\n",
       "      <th>2022-07-31</th>\n",
       "      <td>20220697.00</td>\n",
       "      <td>-0.3380</td>\n",
       "    </tr>\n",
       "    <tr>\n",
       "      <th>2022-08-31</th>\n",
       "      <td>20220811.50</td>\n",
       "      <td>-0.6650</td>\n",
       "    </tr>\n",
       "  </tbody>\n",
       "</table>\n",
       "</div>"
      ],
      "text/plain": [
       "                  iDate     SST\n",
       "2021-08-31  20210795.20 -0.1660\n",
       "2021-09-30  20210892.25 -0.2275\n",
       "2021-10-31  20210997.00 -0.5940\n",
       "2021-11-30  20211111.50 -0.5925\n",
       "2021-12-31  20211192.00 -0.6750\n",
       "2022-01-31  20218336.20 -0.7040\n",
       "2022-02-28  20220193.25 -0.6000\n",
       "2022-03-31  20220292.50 -0.7900\n",
       "2022-04-30  20220390.25 -0.6575\n",
       "2022-05-31  20220495.00 -0.7120\n",
       "2022-06-30  20220592.25 -0.4050\n",
       "2022-07-31  20220697.00 -0.3380\n",
       "2022-08-31  20220811.50 -0.6650"
      ]
     },
     "execution_count": 71,
     "metadata": {},
     "output_type": "execute_result"
    }
   ],
   "source": [
    "nino_index"
   ]
  },
  {
   "cell_type": "code",
   "execution_count": 72,
   "metadata": {},
   "outputs": [],
   "source": [
    "soi_index = get_LP_SOI(start_date=start_date, end_date=last_valid)"
   ]
  },
  {
   "cell_type": "code",
   "execution_count": 73,
   "metadata": {},
   "outputs": [
    {
     "data": {
      "text/html": [
       "<div>\n",
       "<style scoped>\n",
       "    .dataframe tbody tr th:only-of-type {\n",
       "        vertical-align: middle;\n",
       "    }\n",
       "\n",
       "    .dataframe tbody tr th {\n",
       "        vertical-align: top;\n",
       "    }\n",
       "\n",
       "    .dataframe thead th {\n",
       "        text-align: right;\n",
       "    }\n",
       "</style>\n",
       "<table border=\"1\" class=\"dataframe\">\n",
       "  <thead>\n",
       "    <tr style=\"text-align: right;\">\n",
       "      <th></th>\n",
       "      <th>Year</th>\n",
       "      <th>Day</th>\n",
       "      <th>Tahiti</th>\n",
       "      <th>Darwin</th>\n",
       "      <th>SOI</th>\n",
       "    </tr>\n",
       "  </thead>\n",
       "  <tbody>\n",
       "    <tr>\n",
       "      <th>2021-08-31</th>\n",
       "      <td>2021.0</td>\n",
       "      <td>228.0</td>\n",
       "      <td>1015.680968</td>\n",
       "      <td>1013.269355</td>\n",
       "      <td>4.699677</td>\n",
       "    </tr>\n",
       "    <tr>\n",
       "      <th>2021-09-30</th>\n",
       "      <td>2021.0</td>\n",
       "      <td>258.5</td>\n",
       "      <td>1015.874667</td>\n",
       "      <td>1012.006667</td>\n",
       "      <td>9.073333</td>\n",
       "    </tr>\n",
       "    <tr>\n",
       "      <th>2021-10-31</th>\n",
       "      <td>2021.0</td>\n",
       "      <td>289.0</td>\n",
       "      <td>1013.696129</td>\n",
       "      <td>1009.679032</td>\n",
       "      <td>6.767419</td>\n",
       "    </tr>\n",
       "    <tr>\n",
       "      <th>2021-11-30</th>\n",
       "      <td>2021.0</td>\n",
       "      <td>319.5</td>\n",
       "      <td>1013.078000</td>\n",
       "      <td>1008.296667</td>\n",
       "      <td>12.344000</td>\n",
       "    </tr>\n",
       "    <tr>\n",
       "      <th>2021-12-31</th>\n",
       "      <td>2021.0</td>\n",
       "      <td>350.0</td>\n",
       "      <td>1012.708065</td>\n",
       "      <td>1006.500000</td>\n",
       "      <td>13.885806</td>\n",
       "    </tr>\n",
       "    <tr>\n",
       "      <th>2022-01-31</th>\n",
       "      <td>2022.0</td>\n",
       "      <td>16.0</td>\n",
       "      <td>1011.787419</td>\n",
       "      <td>1006.541935</td>\n",
       "      <td>3.883226</td>\n",
       "    </tr>\n",
       "    <tr>\n",
       "      <th>2022-02-28</th>\n",
       "      <td>2022.0</td>\n",
       "      <td>45.5</td>\n",
       "      <td>1013.175000</td>\n",
       "      <td>1006.939286</td>\n",
       "      <td>7.883214</td>\n",
       "    </tr>\n",
       "    <tr>\n",
       "      <th>2022-03-31</th>\n",
       "      <td>2022.0</td>\n",
       "      <td>75.0</td>\n",
       "      <td>1014.101613</td>\n",
       "      <td>1007.533871</td>\n",
       "      <td>14.335806</td>\n",
       "    </tr>\n",
       "    <tr>\n",
       "      <th>2022-04-30</th>\n",
       "      <td>2022.0</td>\n",
       "      <td>105.5</td>\n",
       "      <td>1013.606333</td>\n",
       "      <td>1008.498333</td>\n",
       "      <td>22.660667</td>\n",
       "    </tr>\n",
       "    <tr>\n",
       "      <th>2022-05-31</th>\n",
       "      <td>2022.0</td>\n",
       "      <td>136.0</td>\n",
       "      <td>1014.328710</td>\n",
       "      <td>1010.430645</td>\n",
       "      <td>17.835806</td>\n",
       "    </tr>\n",
       "    <tr>\n",
       "      <th>2022-06-30</th>\n",
       "      <td>2022.0</td>\n",
       "      <td>166.5</td>\n",
       "      <td>1015.407000</td>\n",
       "      <td>1011.725000</td>\n",
       "      <td>20.259333</td>\n",
       "    </tr>\n",
       "    <tr>\n",
       "      <th>2022-07-31</th>\n",
       "      <td>2022.0</td>\n",
       "      <td>197.0</td>\n",
       "      <td>1015.364839</td>\n",
       "      <td>1013.148387</td>\n",
       "      <td>8.191290</td>\n",
       "    </tr>\n",
       "    <tr>\n",
       "      <th>2022-08-31</th>\n",
       "      <td>2022.0</td>\n",
       "      <td>228.0</td>\n",
       "      <td>1015.321935</td>\n",
       "      <td>1012.222581</td>\n",
       "      <td>9.115161</td>\n",
       "    </tr>\n",
       "  </tbody>\n",
       "</table>\n",
       "</div>"
      ],
      "text/plain": [
       "              Year    Day       Tahiti       Darwin        SOI\n",
       "2021-08-31  2021.0  228.0  1015.680968  1013.269355   4.699677\n",
       "2021-09-30  2021.0  258.5  1015.874667  1012.006667   9.073333\n",
       "2021-10-31  2021.0  289.0  1013.696129  1009.679032   6.767419\n",
       "2021-11-30  2021.0  319.5  1013.078000  1008.296667  12.344000\n",
       "2021-12-31  2021.0  350.0  1012.708065  1006.500000  13.885806\n",
       "2022-01-31  2022.0   16.0  1011.787419  1006.541935   3.883226\n",
       "2022-02-28  2022.0   45.5  1013.175000  1006.939286   7.883214\n",
       "2022-03-31  2022.0   75.0  1014.101613  1007.533871  14.335806\n",
       "2022-04-30  2022.0  105.5  1013.606333  1008.498333  22.660667\n",
       "2022-05-31  2022.0  136.0  1014.328710  1010.430645  17.835806\n",
       "2022-06-30  2022.0  166.5  1015.407000  1011.725000  20.259333\n",
       "2022-07-31  2022.0  197.0  1015.364839  1013.148387   8.191290\n",
       "2022-08-31  2022.0  228.0  1015.321935  1012.222581   9.115161"
      ]
     },
     "execution_count": 73,
     "metadata": {},
     "output_type": "execute_result"
    }
   ],
   "source": [
    "soi_index"
   ]
  },
  {
   "cell_type": "markdown",
   "metadata": {},
   "source": [
    "### check "
   ]
  },
  {
   "cell_type": "code",
   "execution_count": 74,
   "metadata": {},
   "outputs": [],
   "source": [
    "if len(soi_index) != len(nino_index): \n",
    "    print(f\"check the SOI and NINO3.4 index data, the SOI Index has length {len(soi_index)} and the NINO Index has length {len(nino_index)}\")"
   ]
  },
  {
   "cell_type": "markdown",
   "metadata": {},
   "source": [
    "### merge the NINO and SOI index "
   ]
  },
  {
   "cell_type": "code",
   "execution_count": 75,
   "metadata": {},
   "outputs": [],
   "source": [
    "ENSO_index = pd.concat([nino_index, soi_index], axis=1)"
   ]
  },
  {
   "cell_type": "code",
   "execution_count": 76,
   "metadata": {},
   "outputs": [],
   "source": [
    "ENSO_index = ENSO_index.dropna()"
   ]
  },
  {
   "cell_type": "code",
   "execution_count": 77,
   "metadata": {},
   "outputs": [
    {
     "data": {
      "text/html": [
       "<div>\n",
       "<style scoped>\n",
       "    .dataframe tbody tr th:only-of-type {\n",
       "        vertical-align: middle;\n",
       "    }\n",
       "\n",
       "    .dataframe tbody tr th {\n",
       "        vertical-align: top;\n",
       "    }\n",
       "\n",
       "    .dataframe thead th {\n",
       "        text-align: right;\n",
       "    }\n",
       "</style>\n",
       "<table border=\"1\" class=\"dataframe\">\n",
       "  <thead>\n",
       "    <tr style=\"text-align: right;\">\n",
       "      <th></th>\n",
       "      <th>iDate</th>\n",
       "      <th>SST</th>\n",
       "      <th>Year</th>\n",
       "      <th>Day</th>\n",
       "      <th>Tahiti</th>\n",
       "      <th>Darwin</th>\n",
       "      <th>SOI</th>\n",
       "    </tr>\n",
       "  </thead>\n",
       "  <tbody>\n",
       "    <tr>\n",
       "      <th>2021-08-31</th>\n",
       "      <td>20210795.20</td>\n",
       "      <td>-0.1660</td>\n",
       "      <td>2021.0</td>\n",
       "      <td>228.0</td>\n",
       "      <td>1015.680968</td>\n",
       "      <td>1013.269355</td>\n",
       "      <td>4.699677</td>\n",
       "    </tr>\n",
       "    <tr>\n",
       "      <th>2021-09-30</th>\n",
       "      <td>20210892.25</td>\n",
       "      <td>-0.2275</td>\n",
       "      <td>2021.0</td>\n",
       "      <td>258.5</td>\n",
       "      <td>1015.874667</td>\n",
       "      <td>1012.006667</td>\n",
       "      <td>9.073333</td>\n",
       "    </tr>\n",
       "    <tr>\n",
       "      <th>2021-10-31</th>\n",
       "      <td>20210997.00</td>\n",
       "      <td>-0.5940</td>\n",
       "      <td>2021.0</td>\n",
       "      <td>289.0</td>\n",
       "      <td>1013.696129</td>\n",
       "      <td>1009.679032</td>\n",
       "      <td>6.767419</td>\n",
       "    </tr>\n",
       "    <tr>\n",
       "      <th>2021-11-30</th>\n",
       "      <td>20211111.50</td>\n",
       "      <td>-0.5925</td>\n",
       "      <td>2021.0</td>\n",
       "      <td>319.5</td>\n",
       "      <td>1013.078000</td>\n",
       "      <td>1008.296667</td>\n",
       "      <td>12.344000</td>\n",
       "    </tr>\n",
       "    <tr>\n",
       "      <th>2021-12-31</th>\n",
       "      <td>20211192.00</td>\n",
       "      <td>-0.6750</td>\n",
       "      <td>2021.0</td>\n",
       "      <td>350.0</td>\n",
       "      <td>1012.708065</td>\n",
       "      <td>1006.500000</td>\n",
       "      <td>13.885806</td>\n",
       "    </tr>\n",
       "  </tbody>\n",
       "</table>\n",
       "</div>"
      ],
      "text/plain": [
       "                  iDate     SST    Year    Day       Tahiti       Darwin  \\\n",
       "2021-08-31  20210795.20 -0.1660  2021.0  228.0  1015.680968  1013.269355   \n",
       "2021-09-30  20210892.25 -0.2275  2021.0  258.5  1015.874667  1012.006667   \n",
       "2021-10-31  20210997.00 -0.5940  2021.0  289.0  1013.696129  1009.679032   \n",
       "2021-11-30  20211111.50 -0.5925  2021.0  319.5  1013.078000  1008.296667   \n",
       "2021-12-31  20211192.00 -0.6750  2021.0  350.0  1012.708065  1006.500000   \n",
       "\n",
       "                  SOI  \n",
       "2021-08-31   4.699677  \n",
       "2021-09-30   9.073333  \n",
       "2021-10-31   6.767419  \n",
       "2021-11-30  12.344000  \n",
       "2021-12-31  13.885806  "
      ]
     },
     "execution_count": 77,
     "metadata": {},
     "output_type": "execute_result"
    }
   ],
   "source": [
    "ENSO_index.head()"
   ]
  },
  {
   "cell_type": "code",
   "execution_count": 78,
   "metadata": {},
   "outputs": [
    {
     "data": {
      "text/html": [
       "<div>\n",
       "<style scoped>\n",
       "    .dataframe tbody tr th:only-of-type {\n",
       "        vertical-align: middle;\n",
       "    }\n",
       "\n",
       "    .dataframe tbody tr th {\n",
       "        vertical-align: top;\n",
       "    }\n",
       "\n",
       "    .dataframe thead th {\n",
       "        text-align: right;\n",
       "    }\n",
       "</style>\n",
       "<table border=\"1\" class=\"dataframe\">\n",
       "  <thead>\n",
       "    <tr style=\"text-align: right;\">\n",
       "      <th></th>\n",
       "      <th>iDate</th>\n",
       "      <th>SST</th>\n",
       "      <th>Year</th>\n",
       "      <th>Day</th>\n",
       "      <th>Tahiti</th>\n",
       "      <th>Darwin</th>\n",
       "      <th>SOI</th>\n",
       "    </tr>\n",
       "  </thead>\n",
       "  <tbody>\n",
       "    <tr>\n",
       "      <th>2022-04-30</th>\n",
       "      <td>20220390.25</td>\n",
       "      <td>-0.6575</td>\n",
       "      <td>2022.0</td>\n",
       "      <td>105.5</td>\n",
       "      <td>1013.606333</td>\n",
       "      <td>1008.498333</td>\n",
       "      <td>22.660667</td>\n",
       "    </tr>\n",
       "    <tr>\n",
       "      <th>2022-05-31</th>\n",
       "      <td>20220495.00</td>\n",
       "      <td>-0.7120</td>\n",
       "      <td>2022.0</td>\n",
       "      <td>136.0</td>\n",
       "      <td>1014.328710</td>\n",
       "      <td>1010.430645</td>\n",
       "      <td>17.835806</td>\n",
       "    </tr>\n",
       "    <tr>\n",
       "      <th>2022-06-30</th>\n",
       "      <td>20220592.25</td>\n",
       "      <td>-0.4050</td>\n",
       "      <td>2022.0</td>\n",
       "      <td>166.5</td>\n",
       "      <td>1015.407000</td>\n",
       "      <td>1011.725000</td>\n",
       "      <td>20.259333</td>\n",
       "    </tr>\n",
       "    <tr>\n",
       "      <th>2022-07-31</th>\n",
       "      <td>20220697.00</td>\n",
       "      <td>-0.3380</td>\n",
       "      <td>2022.0</td>\n",
       "      <td>197.0</td>\n",
       "      <td>1015.364839</td>\n",
       "      <td>1013.148387</td>\n",
       "      <td>8.191290</td>\n",
       "    </tr>\n",
       "    <tr>\n",
       "      <th>2022-08-31</th>\n",
       "      <td>20220811.50</td>\n",
       "      <td>-0.6650</td>\n",
       "      <td>2022.0</td>\n",
       "      <td>228.0</td>\n",
       "      <td>1015.321935</td>\n",
       "      <td>1012.222581</td>\n",
       "      <td>9.115161</td>\n",
       "    </tr>\n",
       "  </tbody>\n",
       "</table>\n",
       "</div>"
      ],
      "text/plain": [
       "                  iDate     SST    Year    Day       Tahiti       Darwin  \\\n",
       "2022-04-30  20220390.25 -0.6575  2022.0  105.5  1013.606333  1008.498333   \n",
       "2022-05-31  20220495.00 -0.7120  2022.0  136.0  1014.328710  1010.430645   \n",
       "2022-06-30  20220592.25 -0.4050  2022.0  166.5  1015.407000  1011.725000   \n",
       "2022-07-31  20220697.00 -0.3380  2022.0  197.0  1015.364839  1013.148387   \n",
       "2022-08-31  20220811.50 -0.6650  2022.0  228.0  1015.321935  1012.222581   \n",
       "\n",
       "                  SOI  \n",
       "2022-04-30  22.660667  \n",
       "2022-05-31  17.835806  \n",
       "2022-06-30  20.259333  \n",
       "2022-07-31   8.191290  \n",
       "2022-08-31   9.115161  "
      ]
     },
     "execution_count": 78,
     "metadata": {},
     "output_type": "execute_result"
    }
   ],
   "source": [
    "ENSO_index.tail()"
   ]
  },
  {
   "cell_type": "markdown",
   "metadata": {},
   "source": [
    "### selects only the columns we actually need "
   ]
  },
  {
   "cell_type": "code",
   "execution_count": 79,
   "metadata": {},
   "outputs": [],
   "source": [
    "ENSO_index = ENSO_index.loc[:,['SST','SOI']]"
   ]
  },
  {
   "cell_type": "markdown",
   "metadata": {},
   "source": [
    "### divides the SOI by 10 to get something closer to the NIWA SOI "
   ]
  },
  {
   "cell_type": "code",
   "execution_count": 80,
   "metadata": {},
   "outputs": [],
   "source": [
    "ENSO_index.loc[:,'SOI'] /= 10."
   ]
  },
  {
   "cell_type": "code",
   "execution_count": 81,
   "metadata": {},
   "outputs": [
    {
     "data": {
      "text/html": [
       "<div>\n",
       "<style scoped>\n",
       "    .dataframe tbody tr th:only-of-type {\n",
       "        vertical-align: middle;\n",
       "    }\n",
       "\n",
       "    .dataframe tbody tr th {\n",
       "        vertical-align: top;\n",
       "    }\n",
       "\n",
       "    .dataframe thead th {\n",
       "        text-align: right;\n",
       "    }\n",
       "</style>\n",
       "<table border=\"1\" class=\"dataframe\">\n",
       "  <thead>\n",
       "    <tr style=\"text-align: right;\">\n",
       "      <th></th>\n",
       "      <th>SST</th>\n",
       "      <th>SOI</th>\n",
       "    </tr>\n",
       "  </thead>\n",
       "  <tbody>\n",
       "    <tr>\n",
       "      <th>2021-08-31</th>\n",
       "      <td>-0.1660</td>\n",
       "      <td>0.469968</td>\n",
       "    </tr>\n",
       "    <tr>\n",
       "      <th>2021-09-30</th>\n",
       "      <td>-0.2275</td>\n",
       "      <td>0.907333</td>\n",
       "    </tr>\n",
       "    <tr>\n",
       "      <th>2021-10-31</th>\n",
       "      <td>-0.5940</td>\n",
       "      <td>0.676742</td>\n",
       "    </tr>\n",
       "    <tr>\n",
       "      <th>2021-11-30</th>\n",
       "      <td>-0.5925</td>\n",
       "      <td>1.234400</td>\n",
       "    </tr>\n",
       "    <tr>\n",
       "      <th>2021-12-31</th>\n",
       "      <td>-0.6750</td>\n",
       "      <td>1.388581</td>\n",
       "    </tr>\n",
       "  </tbody>\n",
       "</table>\n",
       "</div>"
      ],
      "text/plain": [
       "               SST       SOI\n",
       "2021-08-31 -0.1660  0.469968\n",
       "2021-09-30 -0.2275  0.907333\n",
       "2021-10-31 -0.5940  0.676742\n",
       "2021-11-30 -0.5925  1.234400\n",
       "2021-12-31 -0.6750  1.388581"
      ]
     },
     "execution_count": 81,
     "metadata": {},
     "output_type": "execute_result"
    }
   ],
   "source": [
    "ENSO_index.head()"
   ]
  },
  {
   "cell_type": "code",
   "execution_count": 82,
   "metadata": {},
   "outputs": [
    {
     "data": {
      "text/html": [
       "<div>\n",
       "<style scoped>\n",
       "    .dataframe tbody tr th:only-of-type {\n",
       "        vertical-align: middle;\n",
       "    }\n",
       "\n",
       "    .dataframe tbody tr th {\n",
       "        vertical-align: top;\n",
       "    }\n",
       "\n",
       "    .dataframe thead th {\n",
       "        text-align: right;\n",
       "    }\n",
       "</style>\n",
       "<table border=\"1\" class=\"dataframe\">\n",
       "  <thead>\n",
       "    <tr style=\"text-align: right;\">\n",
       "      <th></th>\n",
       "      <th>SST</th>\n",
       "      <th>SOI</th>\n",
       "    </tr>\n",
       "  </thead>\n",
       "  <tbody>\n",
       "    <tr>\n",
       "      <th>2022-04-30</th>\n",
       "      <td>-0.6575</td>\n",
       "      <td>2.266067</td>\n",
       "    </tr>\n",
       "    <tr>\n",
       "      <th>2022-05-31</th>\n",
       "      <td>-0.7120</td>\n",
       "      <td>1.783581</td>\n",
       "    </tr>\n",
       "    <tr>\n",
       "      <th>2022-06-30</th>\n",
       "      <td>-0.4050</td>\n",
       "      <td>2.025933</td>\n",
       "    </tr>\n",
       "    <tr>\n",
       "      <th>2022-07-31</th>\n",
       "      <td>-0.3380</td>\n",
       "      <td>0.819129</td>\n",
       "    </tr>\n",
       "    <tr>\n",
       "      <th>2022-08-31</th>\n",
       "      <td>-0.6650</td>\n",
       "      <td>0.911516</td>\n",
       "    </tr>\n",
       "  </tbody>\n",
       "</table>\n",
       "</div>"
      ],
      "text/plain": [
       "               SST       SOI\n",
       "2022-04-30 -0.6575  2.266067\n",
       "2022-05-31 -0.7120  1.783581\n",
       "2022-06-30 -0.4050  2.025933\n",
       "2022-07-31 -0.3380  0.819129\n",
       "2022-08-31 -0.6650  0.911516"
      ]
     },
     "execution_count": 82,
     "metadata": {},
     "output_type": "execute_result"
    }
   ],
   "source": [
    "ENSO_index.tail()"
   ]
  },
  {
   "cell_type": "markdown",
   "metadata": {},
   "source": [
    "### get the last date "
   ]
  },
  {
   "cell_type": "code",
   "execution_count": 83,
   "metadata": {},
   "outputs": [],
   "source": [
    "last_date = pd.to_datetime(ENSO_index.index[-1])"
   ]
  },
  {
   "cell_type": "code",
   "execution_count": 84,
   "metadata": {},
   "outputs": [
    {
     "data": {
      "text/plain": [
       "Timestamp('2022-08-31 00:00:00', freq='M')"
      ]
     },
     "execution_count": 84,
     "metadata": {},
     "output_type": "execute_result"
    }
   ],
   "source": [
    "last_date"
   ]
  },
  {
   "cell_type": "markdown",
   "metadata": {},
   "source": [
    "### get the values and the basis for plotting"
   ]
  },
  {
   "cell_type": "code",
   "execution_count": 85,
   "metadata": {},
   "outputs": [],
   "source": [
    "soi_values = ENSO_index.SOI.values"
   ]
  },
  {
   "cell_type": "code",
   "execution_count": 86,
   "metadata": {},
   "outputs": [],
   "source": [
    "nino_values = ENSO_index.SST.values "
   ]
  },
  {
   "cell_type": "code",
   "execution_count": 87,
   "metadata": {},
   "outputs": [],
   "source": [
    "basis = np.arange(len(ENSO_index))"
   ]
  },
  {
   "cell_type": "markdown",
   "metadata": {},
   "source": [
    "### build the list of dates for X-axis labeling "
   ]
  },
  {
   "cell_type": "code",
   "execution_count": 88,
   "metadata": {},
   "outputs": [],
   "source": [
    "dates = ENSO_index.index.to_pydatetime()"
   ]
  },
  {
   "cell_type": "code",
   "execution_count": 89,
   "metadata": {},
   "outputs": [],
   "source": [
    "dates_str = [f\"{x:%b %Y}\" for x in dates]"
   ]
  },
  {
   "cell_type": "markdown",
   "metadata": {},
   "source": [
    "### Now read the ENSO categories from NOAA, BoM, APCC and NOAA"
   ]
  },
  {
   "cell_type": "code",
   "execution_count": 90,
   "metadata": {},
   "outputs": [],
   "source": [
    "enso_cat_int = read_ENSO_categories()"
   ]
  },
  {
   "cell_type": "code",
   "execution_count": 91,
   "metadata": {},
   "outputs": [
    {
     "data": {
      "text/html": [
       "<div>\n",
       "<style scoped>\n",
       "    .dataframe tbody tr th:only-of-type {\n",
       "        vertical-align: middle;\n",
       "    }\n",
       "\n",
       "    .dataframe tbody tr th {\n",
       "        vertical-align: top;\n",
       "    }\n",
       "\n",
       "    .dataframe thead th {\n",
       "        text-align: right;\n",
       "    }\n",
       "</style>\n",
       "<table border=\"1\" class=\"dataframe\">\n",
       "  <thead>\n",
       "    <tr style=\"text-align: right;\">\n",
       "      <th></th>\n",
       "      <th>SST</th>\n",
       "      <th>SOI</th>\n",
       "    </tr>\n",
       "  </thead>\n",
       "  <tbody>\n",
       "    <tr>\n",
       "      <th>2022-04-30</th>\n",
       "      <td>-0.6575</td>\n",
       "      <td>2.266067</td>\n",
       "    </tr>\n",
       "    <tr>\n",
       "      <th>2022-05-31</th>\n",
       "      <td>-0.7120</td>\n",
       "      <td>1.783581</td>\n",
       "    </tr>\n",
       "    <tr>\n",
       "      <th>2022-06-30</th>\n",
       "      <td>-0.4050</td>\n",
       "      <td>2.025933</td>\n",
       "    </tr>\n",
       "    <tr>\n",
       "      <th>2022-07-31</th>\n",
       "      <td>-0.3380</td>\n",
       "      <td>0.819129</td>\n",
       "    </tr>\n",
       "    <tr>\n",
       "      <th>2022-08-31</th>\n",
       "      <td>-0.6650</td>\n",
       "      <td>0.911516</td>\n",
       "    </tr>\n",
       "  </tbody>\n",
       "</table>\n",
       "</div>"
      ],
      "text/plain": [
       "               SST       SOI\n",
       "2022-04-30 -0.6575  2.266067\n",
       "2022-05-31 -0.7120  1.783581\n",
       "2022-06-30 -0.4050  2.025933\n",
       "2022-07-31 -0.3380  0.819129\n",
       "2022-08-31 -0.6650  0.911516"
      ]
     },
     "execution_count": 91,
     "metadata": {},
     "output_type": "execute_result"
    }
   ],
   "source": [
    "ENSO_index.tail()"
   ]
  },
  {
   "cell_type": "code",
   "execution_count": 92,
   "metadata": {},
   "outputs": [
    {
     "data": {
      "text/html": [
       "<div>\n",
       "<style scoped>\n",
       "    .dataframe tbody tr th:only-of-type {\n",
       "        vertical-align: middle;\n",
       "    }\n",
       "\n",
       "    .dataframe tbody tr th {\n",
       "        vertical-align: top;\n",
       "    }\n",
       "\n",
       "    .dataframe thead th {\n",
       "        text-align: right;\n",
       "    }\n",
       "</style>\n",
       "<table border=\"1\" class=\"dataframe\">\n",
       "  <thead>\n",
       "    <tr style=\"text-align: right;\">\n",
       "      <th></th>\n",
       "      <th>NOAA</th>\n",
       "      <th>BoM</th>\n",
       "      <th>APCC</th>\n",
       "      <th>NIWA</th>\n",
       "    </tr>\n",
       "    <tr>\n",
       "      <th>date</th>\n",
       "      <th></th>\n",
       "      <th></th>\n",
       "      <th></th>\n",
       "      <th></th>\n",
       "    </tr>\n",
       "  </thead>\n",
       "  <tbody>\n",
       "    <tr>\n",
       "      <th>2022-04-30</th>\n",
       "      <td>-3</td>\n",
       "      <td>-3</td>\n",
       "      <td>-1</td>\n",
       "      <td>-3</td>\n",
       "    </tr>\n",
       "    <tr>\n",
       "      <th>2022-05-31</th>\n",
       "      <td>-3</td>\n",
       "      <td>-3</td>\n",
       "      <td>-3</td>\n",
       "      <td>-3</td>\n",
       "    </tr>\n",
       "    <tr>\n",
       "      <th>2022-06-30</th>\n",
       "      <td>-3</td>\n",
       "      <td>-1</td>\n",
       "      <td>-1</td>\n",
       "      <td>-3</td>\n",
       "    </tr>\n",
       "    <tr>\n",
       "      <th>2022-07-31</th>\n",
       "      <td>-3</td>\n",
       "      <td>-1</td>\n",
       "      <td>-3</td>\n",
       "      <td>-3</td>\n",
       "    </tr>\n",
       "    <tr>\n",
       "      <th>2022-08-31</th>\n",
       "      <td>-3</td>\n",
       "      <td>-2</td>\n",
       "      <td>-3</td>\n",
       "      <td>-3</td>\n",
       "    </tr>\n",
       "  </tbody>\n",
       "</table>\n",
       "</div>"
      ],
      "text/plain": [
       "            NOAA  BoM  APCC  NIWA\n",
       "date                             \n",
       "2022-04-30    -3   -3    -1    -3\n",
       "2022-05-31    -3   -3    -3    -3\n",
       "2022-06-30    -3   -1    -1    -3\n",
       "2022-07-31    -3   -1    -3    -3\n",
       "2022-08-31    -3   -2    -3    -3"
      ]
     },
     "execution_count": 92,
     "metadata": {},
     "output_type": "execute_result"
    }
   ],
   "source": [
    "enso_cat_int.tail()"
   ]
  },
  {
   "cell_type": "code",
   "execution_count": 93,
   "metadata": {},
   "outputs": [],
   "source": [
    "enso_cat_int = enso_cat_int.loc[ENSO_index.index,:]"
   ]
  },
  {
   "cell_type": "markdown",
   "metadata": {},
   "source": [
    "### colors for the heatmap "
   ]
  },
  {
   "cell_type": "code",
   "execution_count": 94,
   "metadata": {},
   "outputs": [],
   "source": [
    "col_dict={-3:\"#4233ff\",\n",
    "          -2:\"#33a2ff\",\n",
    "          -1:\"#33ffbb\",\n",
    "          0:\"#d4d4d4\",\n",
    "          1:\"#f3ff33\", \n",
    "          2:\"#ffa233\",\n",
    "          3:\"#dc0f09\"\n",
    "         }\n",
    "\n",
    "cm = ListedColormap([col_dict[x] for x in col_dict.keys()])"
   ]
  },
  {
   "cell_type": "code",
   "execution_count": 95,
   "metadata": {},
   "outputs": [],
   "source": [
    "matplotlib.rc('xtick', labelsize=14) \n",
    "matplotlib.rc('ytick', labelsize=14) "
   ]
  },
  {
   "cell_type": "code",
   "execution_count": 96,
   "metadata": {},
   "outputs": [
    {
     "data": {
      "image/png": "[encoded data removed]",
      "text/plain": [
       "<Figure size 576x576 with 4 Axes>"
      ]
     },
     "metadata": {},
     "output_type": "display_data"
    }
   ],
   "source": [
    "f = plt.figure(figsize=(8,8))\n",
    "\n",
    "# defines the axes [left, bottom, width, height]\n",
    "\n",
    "ax0 = f.add_axes([0.1, 0.66, 0.9, 0.3])\n",
    "\n",
    "ax0.set_title(\"Pacific Regional Climate Centre ENSO tracker\\n\", fontsize=16)\n",
    "\n",
    "ax1 = f.add_axes([0.1, 0.33, 0.755, 0.33])\n",
    "\n",
    "ax2 = f.add_axes([0.1, 0.05, 0.755, 0.30])\n",
    "\n",
    "#============================================================================================================================\n",
    "# first set of axes: ENSO categories heatmap \n",
    "\n",
    "sns.heatmap(enso_cat_int.T, cmap=cm, center=0, vmin=-3, vmax=3, ax=ax0, \\\n",
    "            cbar_kws={'aspect':5, 'pad':0.01}) \n",
    "\n",
    "colorbar = ax0.collections[0].colorbar \n",
    "\n",
    "ax0.set_yticks([0.8, 1.8, 2.8, 3.8]);\n",
    "\n",
    "ax0.set_yticklabels(['NOAA','BoM','APCC','NIWA'], fontsize=14)\n",
    "\n",
    "ax0.set_ylim(bottom=0,top=4)\n",
    "\n",
    "[ax0.axvline(x, color='k', lw=2, alpha=0.5) for x in range(0,len(enso_cat_int) + 1)];\n",
    "\n",
    "[ax0.axhline(x, color='k', lw=2, alpha=0.5) for x in range(1,5)];\n",
    "\n",
    "ax0.tick_params(direction='out', length=0, width=0)\n",
    "\n",
    "colorbar.set_ticks([-2.5, -1.75, -0.8,  0.,  0.90, 1.75,  2.6])\n",
    "\n",
    "colorbar.set_ticklabels([\"La Nina\", \"La Nina Alert\", \"La Nina Watch\", \"Neutral\", \"El Nino Watch\", \"El Nino Alert\", \"El Nino\"])    \n",
    "\n",
    "colorbar.ax.tick_params(direction='out', length=0, width=0)\n",
    "\n",
    "#============================================================================================================================\n",
    "# second set of axes: ENSO barplot\n",
    "\n",
    "ax1.bar(basis[nino_values>=0],nino_values[nino_values>=0], width=1, facecolor='coral', alpha=.8, edgecolor='k', lw=2)\n",
    "ax1.bar(basis[nino_values<0],nino_values[nino_values<0], width=1, facecolor='steelblue', alpha=.8, edgecolor='k', lw=2)\n",
    "\n",
    "ax1.set_xticks(basis)\n",
    "\n",
    "ax1.set_xticklabels(dates_str, rotation=90)\n",
    "\n",
    "ax1.set_xlim([-0.5,len(dates) - 0.5])\n",
    "\n",
    "# get the minimum and maximum values, and set limits and ticks for the y-axis accordingly \n",
    "max_nino = np.ceil(np.max(np.abs(nino_values)))\n",
    "min_nino =- max_nino\n",
    "\n",
    "if max_nino > 1: \n",
    "    ax1.set_ylim([min_nino, max_nino])\n",
    "    ax1.set_yticks(np.arange(min_nino+0.5, max_nino, 0.5))\n",
    "else: \n",
    "    ax1.set_ylim([-1, 1])\n",
    "    ax1.set_yticks([-0.7, 0, 0.7])                  \n",
    "    \n",
    "ax1.axhline(-0.7, ls=':', color='b')\n",
    "ax1.axhline(0.7, ls=':', color='r')\n",
    "\n",
    "ax1.yaxis.tick_right()\n",
    "\n",
    "ax1.set_ylabel('monthly NINO 3.4\\nanomalies (℃)', fontsize=14)\n",
    "\n",
    "ax1.yaxis.set_label_position(\"right\")\n",
    "\n",
    "[ax1.axvline(x, color='k', lw=1, alpha=0.5, ls=':') for x in np.arange(0.5,len(dates)-0.5)];\n",
    "\n",
    "ax1.set_xlabel('month', fontsize=14)\n",
    "\n",
    "ax1.text(0.01, 0.9, 'NINO 3.4', transform=ax1.transAxes, fontsize=15)\n",
    "\n",
    "#============================================================================================================================\n",
    "# second set of axes: SOI barplot\n",
    "\n",
    "ax2.bar(basis[soi_values>=0],soi_values[soi_values>=0], width=1, facecolor='steelblue', alpha=.8, edgecolor='k', lw=2)\n",
    "ax2.bar(basis[soi_values<0],soi_values[soi_values<0], width=1, facecolor='coral', alpha=.8, edgecolor='k', lw=2)\n",
    "\n",
    "ax2.set_xticks(basis)\n",
    "\n",
    "ax2.set_xticklabels(dates_str, rotation=90)\n",
    "\n",
    "ax2.set_xlim([-0.5,len(dates) - 0.5])\n",
    "\n",
    "# get the minimum and maximum values, and set limits and ticks for the y-axis accordingly \n",
    "max_soi = np.ceil(np.max(np.abs(soi_values)))\n",
    "min_soi =- max_soi\n",
    "\n",
    "if max_soi > 1.5: \n",
    "    ax2.set_ylim([min_soi, max_soi])\n",
    "    ax2.set_yticks(np.arange(min_soi+0.5, max_soi, 0.5))\n",
    "else: \n",
    "    ax2.set_ylim([-1.5, 1.5])\n",
    "    ax2.set_yticks([-1, 0, 1])       \n",
    "\n",
    "ax2.axhline(-1, ls=':', color='r')\n",
    "ax2.axhline(1, ls=':', color='b')\n",
    "\n",
    "ax2.yaxis.tick_right()\n",
    "\n",
    "ax2.yaxis.set_label_position(\"right\")\n",
    "\n",
    "ax2.set_ylabel('monthly SOI (std)', fontsize=14)\n",
    "\n",
    "ax2.yaxis.set_label_position(\"right\")\n",
    "\n",
    "ax2.text(0.01, 0.9, 'SOI', transform=ax2.transAxes, fontsize=15)\n",
    "\n",
    "[ax2.axvline(x, color='k', lw=1, alpha=0.5, ls=':') for x in np.arange(0.5,len(dates)-0.5)];\n",
    "\n",
    "# f.patch.set_facecolor('0.99')\n",
    "f.patch.set_facecolor('w')"
   ]
  },
  {
   "cell_type": "markdown",
   "metadata": {},
   "source": [
    "### saves to file "
   ]
  },
  {
   "cell_type": "code",
   "execution_count": 97,
   "metadata": {},
   "outputs": [],
   "source": [
    "f.savefig('../figures/prototype_Pacific_RCC.png', dpi=200, bbox_inches='tight')"
   ]
  },
  {
   "cell_type": "code",
   "execution_count": 98,
   "metadata": {},
   "outputs": [],
   "source": [
    "f.savefig('./figures/prototype_Pacific_RCC.png', dpi=200, bbox_inches='tight')"
   ]
  },
  {
   "cell_type": "code",
   "execution_count": null,
   "metadata": {},
   "outputs": [],
   "source": []
  }
 ],
 "metadata": {
  "kernelspec": {
   "display_name": "Python 3",
   "language": "python",
   "name": "python3"
  },
  "language_info": {
   "codemirror_mode": {
    "name": "ipython",
    "version": 3
   },
   "file_extension": ".py",
   "mimetype": "text/x-python",
   "name": "python",
   "nbconvert_exporter": "python",
   "pygments_lexer": "ipython3",
   "version": "3.6.11"
  }
 },
 "nbformat": 4,
 "nbformat_minor": 4
}
